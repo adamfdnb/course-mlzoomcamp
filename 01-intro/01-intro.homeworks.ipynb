{
 "cells": [
  {
   "cell_type": "code",
   "execution_count": 1,
   "id": "9c0f5896",
   "metadata": {},
   "outputs": [
    {
     "data": {
      "text/plain": [
       "'1.22.3'"
      ]
     },
     "execution_count": 1,
     "metadata": {},
     "output_type": "execute_result"
    }
   ],
   "source": [
    "import numpy as np  #task_1\n",
    "\n",
    "np.__version__"
   ]
  },
  {
   "cell_type": "code",
   "execution_count": 2,
   "id": "d2681df1",
   "metadata": {},
   "outputs": [],
   "source": [
    "import pandas as pd"
   ]
  },
  {
   "cell_type": "code",
   "execution_count": 3,
   "id": "06722dc2",
   "metadata": {},
   "outputs": [],
   "source": [
    "df = pd.read_csv('data.csv') "
   ]
  },
  {
   "cell_type": "code",
   "execution_count": 4,
   "id": "b788a980",
   "metadata": {},
   "outputs": [
    {
     "data": {
      "text/plain": [
       "Index(['Make', 'Model', 'Year', 'Engine Fuel Type', 'Engine HP',\n",
       "       'Engine Cylinders', 'Transmission Type', 'Driven_Wheels',\n",
       "       'Number of Doors', 'Market Category', 'Vehicle Size', 'Vehicle Style',\n",
       "       'highway MPG', 'city mpg', 'Popularity', 'MSRP'],\n",
       "      dtype='object')"
      ]
     },
     "execution_count": 4,
     "metadata": {},
     "output_type": "execute_result"
    }
   ],
   "source": [
    "df.columns"
   ]
  },
  {
   "cell_type": "code",
   "execution_count": 5,
   "id": "abb5e6c5",
   "metadata": {},
   "outputs": [
    {
     "data": {
      "text/plain": [
       "11914"
      ]
     },
     "execution_count": 5,
     "metadata": {},
     "output_type": "execute_result"
    }
   ],
   "source": [
    "len(df)  # task_2"
   ]
  },
  {
   "cell_type": "code",
   "execution_count": 7,
   "id": "585330e7",
   "metadata": {},
   "outputs": [
    {
     "data": {
      "text/plain": [
       "Make\n",
       "Chevrolet     1123\n",
       "Ford           881\n",
       "Volkswagen     809\n",
       "dtype: int64"
      ]
     },
     "execution_count": 7,
     "metadata": {},
     "output_type": "execute_result"
    }
   ],
   "source": [
    "df.value_counts(\"Make\").head(3)  # task_3"
   ]
  },
  {
   "cell_type": "code",
   "execution_count": 8,
   "id": "7fba09a1",
   "metadata": {},
   "outputs": [
    {
     "data": {
      "text/plain": [
       "34"
      ]
     },
     "execution_count": 8,
     "metadata": {},
     "output_type": "execute_result"
    }
   ],
   "source": [
    "df.loc[df[\"Make\"] == \"Audi\", \"Model\"].nunique()  # task_4"
   ]
  },
  {
   "cell_type": "code",
   "execution_count": 10,
   "id": "2f522ff8",
   "metadata": {},
   "outputs": [
    {
     "data": {
      "text/plain": [
       "5"
      ]
     },
     "execution_count": 10,
     "metadata": {},
     "output_type": "execute_result"
    }
   ],
   "source": [
    "df.isnull().any(axis=0).sum() # task_5 "
   ]
  },
  {
   "cell_type": "code",
   "execution_count": 13,
   "id": "6483b03b",
   "metadata": {},
   "outputs": [
    {
     "data": {
      "text/plain": [
       "6.0"
      ]
     },
     "execution_count": 13,
     "metadata": {},
     "output_type": "execute_result"
    }
   ],
   "source": [
    "df['Engine Cylinders'].median() # task_6"
   ]
  },
  {
   "cell_type": "code",
   "execution_count": 14,
   "id": "a6449794",
   "metadata": {},
   "outputs": [
    {
     "data": {
      "text/plain": [
       "4.0"
      ]
     },
     "execution_count": 14,
     "metadata": {},
     "output_type": "execute_result"
    }
   ],
   "source": [
    "df[\"Engine Cylinders\"].mode()[0] # task_6.1"
   ]
  },
  {
   "cell_type": "code",
   "execution_count": 15,
   "id": "ac22ac1a",
   "metadata": {},
   "outputs": [],
   "source": [
    "df[\"Engine Cylinders\"].fillna(df[\"Engine Cylinders\"].mode()[0], inplace=True) # task_6.2"
   ]
  },
  {
   "cell_type": "code",
   "execution_count": 16,
   "id": "15652981",
   "metadata": {},
   "outputs": [
    {
     "data": {
      "text/plain": [
       "6.0"
      ]
     },
     "execution_count": 16,
     "metadata": {},
     "output_type": "execute_result"
    }
   ],
   "source": [
    "df[\"Engine Cylinders\"].median() # task_6.3"
   ]
  },
  {
   "cell_type": "code",
   "execution_count": 17,
   "id": "46161df4",
   "metadata": {},
   "outputs": [],
   "source": [
    "data = df.loc[\n",
    "    df[\"Make\"] == \"Lotus\", [\"Engine HP\", \"Engine Cylinders\"]\n",
    "].drop_duplicates() # task_7"
   ]
  },
  {
   "cell_type": "code",
   "execution_count": 18,
   "id": "5ea7c46a",
   "metadata": {},
   "outputs": [
    {
     "data": {
      "text/plain": [
       "(9, 2)"
      ]
     },
     "execution_count": 18,
     "metadata": {},
     "output_type": "execute_result"
    }
   ],
   "source": [
    "data.shape # task_7.1"
   ]
  },
  {
   "cell_type": "code",
   "execution_count": 19,
   "id": "61302e66",
   "metadata": {},
   "outputs": [],
   "source": [
    "X = np.array(data) # task_7.2"
   ]
  },
  {
   "cell_type": "code",
   "execution_count": 20,
   "id": "250dbef3",
   "metadata": {},
   "outputs": [],
   "source": [
    "XTX = np.dot(X.T,X) # task_7.3"
   ]
  },
  {
   "cell_type": "code",
   "execution_count": 21,
   "id": "63bc06d8",
   "metadata": {},
   "outputs": [
    {
     "data": {
      "text/plain": [
       "array([[ 5.53084235e-05, -2.94319825e-03],\n",
       "       [-2.94319825e-03,  1.60588447e-01]])"
      ]
     },
     "execution_count": 21,
     "metadata": {},
     "output_type": "execute_result"
    }
   ],
   "source": [
    "np.linalg.inv(XTX) # task_7.4"
   ]
  },
  {
   "cell_type": "code",
   "execution_count": 22,
   "id": "591ec1eb",
   "metadata": {},
   "outputs": [],
   "source": [
    "y = np.array([1100, 800, 750, 850, 1300, 1000, 1000, 1300, 800]) # task_7.5"
   ]
  },
  {
   "cell_type": "code",
   "execution_count": 23,
   "id": "ae2627e5",
   "metadata": {},
   "outputs": [
    {
     "name": "stdout",
     "output_type": "stream",
     "text": [
      "4.5949\n"
     ]
    }
   ],
   "source": [
    "w = np.dot(np.dot(np.linalg.inv(XTX), X.T), y)  # task_7.6\n",
    "print(f\"{w[0]:.4f}\")"
   ]
  }
 ],
 "metadata": {
  "kernelspec": {
   "display_name": "Python 3 (ipykernel)",
   "language": "python",
   "name": "python3"
  },
  "language_info": {
   "codemirror_mode": {
    "name": "ipython",
    "version": 3
   },
   "file_extension": ".py",
   "mimetype": "text/x-python",
   "name": "python",
   "nbconvert_exporter": "python",
   "pygments_lexer": "ipython3",
   "version": "3.10.4"
  }
 },
 "nbformat": 4,
 "nbformat_minor": 5
}
