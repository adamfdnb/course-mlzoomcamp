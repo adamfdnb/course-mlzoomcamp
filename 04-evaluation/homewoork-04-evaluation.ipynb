{
 "cells": [
  {
   "cell_type": "markdown",
   "id": "9b2aeff8",
   "metadata": {},
   "source": [
    "***Model Evaluation***"
   ]
  },
  {
   "cell_type": "markdown",
   "id": "f5373553",
   "metadata": {},
   "source": [
    "**Dataset**<br>\n",
    "In this homework we will use credit card data from the book \"Econometric Analysis\" available from [Kaggle](https://www.kaggle.com/datasets/dansbecker/aer-credit-card-data).<br>\n",
    "<br>\n",
    "Goal: to inspect the output of different evaluation metrics by creating a classification model (target column card)."
   ]
  },
  {
   "cell_type": "code",
   "execution_count": 1,
   "id": "ed6b6c81",
   "metadata": {},
   "outputs": [],
   "source": [
    "# Preparing the environment\n",
    "import numpy as np  # linear algebra\n",
    "import pandas as pd  # data processing, CSV file I/O (e.g. pd.read_csv)\n",
    "from matplotlib import (\n",
    "    pyplot as plt,\n",
    ")  # library for creating static, animated, and interactive visualizations\n",
    "import seaborn as sns  # data visualization library based on matplotlib"
   ]
  },
  {
   "cell_type": "markdown",
   "id": "d8a1e248",
   "metadata": {},
   "source": [
    "Exploratory Data Analysis // **EDA**"
   ]
  },
  {
   "cell_type": "code",
   "execution_count": 2,
   "id": "0811217c",
   "metadata": {},
   "outputs": [
    {
     "data": {
      "text/html": [
       "<div>\n",
       "<style scoped>\n",
       "    .dataframe tbody tr th:only-of-type {\n",
       "        vertical-align: middle;\n",
       "    }\n",
       "\n",
       "    .dataframe tbody tr th {\n",
       "        vertical-align: top;\n",
       "    }\n",
       "\n",
       "    .dataframe thead th {\n",
       "        text-align: right;\n",
       "    }\n",
       "</style>\n",
       "<table border=\"1\" class=\"dataframe\">\n",
       "  <thead>\n",
       "    <tr style=\"text-align: right;\">\n",
       "      <th></th>\n",
       "      <th>card</th>\n",
       "      <th>reports</th>\n",
       "      <th>age</th>\n",
       "      <th>income</th>\n",
       "      <th>share</th>\n",
       "      <th>expenditure</th>\n",
       "      <th>owner</th>\n",
       "      <th>selfemp</th>\n",
       "      <th>dependents</th>\n",
       "      <th>months</th>\n",
       "      <th>majorcards</th>\n",
       "      <th>active</th>\n",
       "    </tr>\n",
       "  </thead>\n",
       "  <tbody>\n",
       "    <tr>\n",
       "      <th>0</th>\n",
       "      <td>yes</td>\n",
       "      <td>0</td>\n",
       "      <td>37.66667</td>\n",
       "      <td>4.52</td>\n",
       "      <td>0.033270</td>\n",
       "      <td>124.983300</td>\n",
       "      <td>yes</td>\n",
       "      <td>no</td>\n",
       "      <td>3</td>\n",
       "      <td>54</td>\n",
       "      <td>1</td>\n",
       "      <td>12</td>\n",
       "    </tr>\n",
       "    <tr>\n",
       "      <th>1</th>\n",
       "      <td>yes</td>\n",
       "      <td>0</td>\n",
       "      <td>33.25000</td>\n",
       "      <td>2.42</td>\n",
       "      <td>0.005217</td>\n",
       "      <td>9.854167</td>\n",
       "      <td>no</td>\n",
       "      <td>no</td>\n",
       "      <td>3</td>\n",
       "      <td>34</td>\n",
       "      <td>1</td>\n",
       "      <td>13</td>\n",
       "    </tr>\n",
       "  </tbody>\n",
       "</table>\n",
       "</div>"
      ],
      "text/plain": [
       "  card  reports       age  income     share  expenditure owner selfemp  \\\n",
       "0  yes        0  37.66667    4.52  0.033270   124.983300   yes      no   \n",
       "1  yes        0  33.25000    2.42  0.005217     9.854167    no      no   \n",
       "\n",
       "   dependents  months  majorcards  active  \n",
       "0           3      54           1      12  \n",
       "1           3      34           1      13  "
      ]
     },
     "execution_count": 2,
     "metadata": {},
     "output_type": "execute_result"
    }
   ],
   "source": [
    "# Load the Dataset into a DataFrame\n",
    "ds = pd.read_csv(\"AER_credit_card_data.csv\")\n",
    "df = ds.copy()\n",
    "df.head(2)"
   ]
  },
  {
   "cell_type": "code",
   "execution_count": 3,
   "id": "fa9dbd5f",
   "metadata": {},
   "outputs": [
    {
     "data": {
      "text/html": [
       "<div>\n",
       "<style scoped>\n",
       "    .dataframe tbody tr th:only-of-type {\n",
       "        vertical-align: middle;\n",
       "    }\n",
       "\n",
       "    .dataframe tbody tr th {\n",
       "        vertical-align: top;\n",
       "    }\n",
       "\n",
       "    .dataframe thead th {\n",
       "        text-align: right;\n",
       "    }\n",
       "</style>\n",
       "<table border=\"1\" class=\"dataframe\">\n",
       "  <thead>\n",
       "    <tr style=\"text-align: right;\">\n",
       "      <th></th>\n",
       "      <th>card</th>\n",
       "      <th>reports</th>\n",
       "      <th>age</th>\n",
       "      <th>income</th>\n",
       "      <th>share</th>\n",
       "      <th>expenditure</th>\n",
       "      <th>owner</th>\n",
       "      <th>selfemp</th>\n",
       "      <th>dependents</th>\n",
       "      <th>months</th>\n",
       "      <th>majorcards</th>\n",
       "      <th>active</th>\n",
       "    </tr>\n",
       "  </thead>\n",
       "  <tbody>\n",
       "    <tr>\n",
       "      <th>0</th>\n",
       "      <td>1</td>\n",
       "      <td>0</td>\n",
       "      <td>37.66667</td>\n",
       "      <td>4.52</td>\n",
       "      <td>0.033270</td>\n",
       "      <td>124.983300</td>\n",
       "      <td>yes</td>\n",
       "      <td>no</td>\n",
       "      <td>3</td>\n",
       "      <td>54</td>\n",
       "      <td>1</td>\n",
       "      <td>12</td>\n",
       "    </tr>\n",
       "    <tr>\n",
       "      <th>1</th>\n",
       "      <td>1</td>\n",
       "      <td>0</td>\n",
       "      <td>33.25000</td>\n",
       "      <td>2.42</td>\n",
       "      <td>0.005217</td>\n",
       "      <td>9.854167</td>\n",
       "      <td>no</td>\n",
       "      <td>no</td>\n",
       "      <td>3</td>\n",
       "      <td>34</td>\n",
       "      <td>1</td>\n",
       "      <td>13</td>\n",
       "    </tr>\n",
       "  </tbody>\n",
       "</table>\n",
       "</div>"
      ],
      "text/plain": [
       "   card  reports       age  income     share  expenditure owner selfemp  \\\n",
       "0     1        0  37.66667    4.52  0.033270   124.983300   yes      no   \n",
       "1     1        0  33.25000    2.42  0.005217     9.854167    no      no   \n",
       "\n",
       "   dependents  months  majorcards  active  \n",
       "0           3      54           1      12  \n",
       "1           3      34           1      13  "
      ]
     },
     "execution_count": 3,
     "metadata": {},
     "output_type": "execute_result"
    }
   ],
   "source": [
    "df.columns = df.columns.str.lower().str.replace(\" \", \"_\")\n",
    "\n",
    "string_columns = list(df.dtypes[df.dtypes == \"object\"].index)\n",
    "\n",
    "for col in string_columns:\n",
    "    df[col] = df[col].str.lower().str.replace(\" \", \"_\")\n",
    "    \n",
    "df['card'] = (df['card'] == 'yes').astype(int)\n",
    "df.head(2) "
   ]
  },
  {
   "cell_type": "code",
   "execution_count": 4,
   "id": "c89f05e9",
   "metadata": {},
   "outputs": [
    {
     "name": "stdout",
     "output_type": "stream",
     "text": [
      "\n",
      "dataset describe:\n"
     ]
    },
    {
     "data": {
      "text/html": [
       "<div>\n",
       "<style scoped>\n",
       "    .dataframe tbody tr th:only-of-type {\n",
       "        vertical-align: middle;\n",
       "    }\n",
       "\n",
       "    .dataframe tbody tr th {\n",
       "        vertical-align: top;\n",
       "    }\n",
       "\n",
       "    .dataframe thead th {\n",
       "        text-align: right;\n",
       "    }\n",
       "</style>\n",
       "<table border=\"1\" class=\"dataframe\">\n",
       "  <thead>\n",
       "    <tr style=\"text-align: right;\">\n",
       "      <th></th>\n",
       "      <th>card</th>\n",
       "      <th>reports</th>\n",
       "      <th>age</th>\n",
       "      <th>income</th>\n",
       "      <th>share</th>\n",
       "      <th>expenditure</th>\n",
       "      <th>dependents</th>\n",
       "      <th>months</th>\n",
       "      <th>majorcards</th>\n",
       "      <th>active</th>\n",
       "    </tr>\n",
       "  </thead>\n",
       "  <tbody>\n",
       "    <tr>\n",
       "      <th>count</th>\n",
       "      <td>1319.000000</td>\n",
       "      <td>1319.000000</td>\n",
       "      <td>1319.000000</td>\n",
       "      <td>1319.000000</td>\n",
       "      <td>1319.000000</td>\n",
       "      <td>1319.000000</td>\n",
       "      <td>1319.000000</td>\n",
       "      <td>1319.000000</td>\n",
       "      <td>1319.000000</td>\n",
       "      <td>1319.000000</td>\n",
       "    </tr>\n",
       "    <tr>\n",
       "      <th>mean</th>\n",
       "      <td>0.775588</td>\n",
       "      <td>0.456406</td>\n",
       "      <td>33.213103</td>\n",
       "      <td>3.365376</td>\n",
       "      <td>0.068732</td>\n",
       "      <td>185.057071</td>\n",
       "      <td>0.993935</td>\n",
       "      <td>55.267627</td>\n",
       "      <td>0.817286</td>\n",
       "      <td>6.996967</td>\n",
       "    </tr>\n",
       "    <tr>\n",
       "      <th>std</th>\n",
       "      <td>0.417353</td>\n",
       "      <td>1.345267</td>\n",
       "      <td>10.142783</td>\n",
       "      <td>1.693902</td>\n",
       "      <td>0.094656</td>\n",
       "      <td>272.218917</td>\n",
       "      <td>1.247745</td>\n",
       "      <td>66.271746</td>\n",
       "      <td>0.386579</td>\n",
       "      <td>6.305812</td>\n",
       "    </tr>\n",
       "    <tr>\n",
       "      <th>min</th>\n",
       "      <td>0.000000</td>\n",
       "      <td>0.000000</td>\n",
       "      <td>0.166667</td>\n",
       "      <td>0.210000</td>\n",
       "      <td>0.000109</td>\n",
       "      <td>0.000000</td>\n",
       "      <td>0.000000</td>\n",
       "      <td>0.000000</td>\n",
       "      <td>0.000000</td>\n",
       "      <td>0.000000</td>\n",
       "    </tr>\n",
       "    <tr>\n",
       "      <th>25%</th>\n",
       "      <td>1.000000</td>\n",
       "      <td>0.000000</td>\n",
       "      <td>25.416670</td>\n",
       "      <td>2.243750</td>\n",
       "      <td>0.002316</td>\n",
       "      <td>4.583333</td>\n",
       "      <td>0.000000</td>\n",
       "      <td>12.000000</td>\n",
       "      <td>1.000000</td>\n",
       "      <td>2.000000</td>\n",
       "    </tr>\n",
       "    <tr>\n",
       "      <th>50%</th>\n",
       "      <td>1.000000</td>\n",
       "      <td>0.000000</td>\n",
       "      <td>31.250000</td>\n",
       "      <td>2.900000</td>\n",
       "      <td>0.038827</td>\n",
       "      <td>101.298300</td>\n",
       "      <td>1.000000</td>\n",
       "      <td>30.000000</td>\n",
       "      <td>1.000000</td>\n",
       "      <td>6.000000</td>\n",
       "    </tr>\n",
       "    <tr>\n",
       "      <th>75%</th>\n",
       "      <td>1.000000</td>\n",
       "      <td>0.000000</td>\n",
       "      <td>39.416670</td>\n",
       "      <td>4.000000</td>\n",
       "      <td>0.093617</td>\n",
       "      <td>249.035800</td>\n",
       "      <td>2.000000</td>\n",
       "      <td>72.000000</td>\n",
       "      <td>1.000000</td>\n",
       "      <td>11.000000</td>\n",
       "    </tr>\n",
       "    <tr>\n",
       "      <th>max</th>\n",
       "      <td>1.000000</td>\n",
       "      <td>14.000000</td>\n",
       "      <td>83.500000</td>\n",
       "      <td>13.500000</td>\n",
       "      <td>0.906320</td>\n",
       "      <td>3099.505000</td>\n",
       "      <td>6.000000</td>\n",
       "      <td>540.000000</td>\n",
       "      <td>1.000000</td>\n",
       "      <td>46.000000</td>\n",
       "    </tr>\n",
       "  </tbody>\n",
       "</table>\n",
       "</div>"
      ],
      "text/plain": [
       "              card      reports          age       income        share  \\\n",
       "count  1319.000000  1319.000000  1319.000000  1319.000000  1319.000000   \n",
       "mean      0.775588     0.456406    33.213103     3.365376     0.068732   \n",
       "std       0.417353     1.345267    10.142783     1.693902     0.094656   \n",
       "min       0.000000     0.000000     0.166667     0.210000     0.000109   \n",
       "25%       1.000000     0.000000    25.416670     2.243750     0.002316   \n",
       "50%       1.000000     0.000000    31.250000     2.900000     0.038827   \n",
       "75%       1.000000     0.000000    39.416670     4.000000     0.093617   \n",
       "max       1.000000    14.000000    83.500000    13.500000     0.906320   \n",
       "\n",
       "       expenditure   dependents       months   majorcards       active  \n",
       "count  1319.000000  1319.000000  1319.000000  1319.000000  1319.000000  \n",
       "mean    185.057071     0.993935    55.267627     0.817286     6.996967  \n",
       "std     272.218917     1.247745    66.271746     0.386579     6.305812  \n",
       "min       0.000000     0.000000     0.000000     0.000000     0.000000  \n",
       "25%       4.583333     0.000000    12.000000     1.000000     2.000000  \n",
       "50%     101.298300     1.000000    30.000000     1.000000     6.000000  \n",
       "75%     249.035800     2.000000    72.000000     1.000000    11.000000  \n",
       "max    3099.505000     6.000000   540.000000     1.000000    46.000000  "
      ]
     },
     "metadata": {},
     "output_type": "display_data"
    },
    {
     "name": "stdout",
     "output_type": "stream",
     "text": [
      "\n",
      "datasetColumns:\n"
     ]
    },
    {
     "data": {
      "text/plain": [
       "Index(['card', 'reports', 'age', 'income', 'share', 'expenditure', 'owner',\n",
       "       'selfemp', 'dependents', 'months', 'majorcards', 'active'],\n",
       "      dtype='object')"
      ]
     },
     "metadata": {},
     "output_type": "display_data"
    },
    {
     "name": "stdout",
     "output_type": "stream",
     "text": [
      "\n",
      "dataset len:\n"
     ]
    },
    {
     "data": {
      "text/plain": [
       "1319"
      ]
     },
     "metadata": {},
     "output_type": "display_data"
    },
    {
     "name": "stdout",
     "output_type": "stream",
     "text": [
      "\n",
      "dataset types :\n"
     ]
    },
    {
     "data": {
      "text/plain": [
       "card             int32\n",
       "reports          int64\n",
       "age            float64\n",
       "income         float64\n",
       "share          float64\n",
       "expenditure    float64\n",
       "owner           object\n",
       "selfemp         object\n",
       "dependents       int64\n",
       "months           int64\n",
       "majorcards       int64\n",
       "active           int64\n",
       "dtype: object"
      ]
     },
     "execution_count": 4,
     "metadata": {},
     "output_type": "execute_result"
    }
   ],
   "source": [
    "print(f\"\\ndataset describe:\")\n",
    "display(df.describe())\n",
    "print(f\"\\ndatasetColumns:\")\n",
    "display(df.columns)\n",
    "print(f\"\\ndataset len:\")\n",
    "display(len(df))\n",
    "print(f\"\\ndataset types :\")\n",
    "df.dtypes"
   ]
  },
  {
   "cell_type": "markdown",
   "id": "cc59d7a2",
   "metadata": {},
   "source": [
    "**Preparation**<br>\n",
    "I will create a target variable, mapping yes to 1 and no to 0.<br>\n",
    "I will split the dataset into 3 parts: training/validation/test with a 60%/20%/20% distribution. <br>\n",
    "I will use the function train_test_split with random_state=1 for this.<br>"
   ]
  },
  {
   "cell_type": "code",
   "execution_count": 5,
   "id": "42cfa07f",
   "metadata": {},
   "outputs": [],
   "source": [
    "numerical = ['age', 'reports', 'income', 'share', 'expenditure', 'dependents', 'months', 'majorcards', 'active']\n",
    "categorical = ['owner', 'selfemp']"
   ]
  },
  {
   "cell_type": "code",
   "execution_count": 6,
   "id": "405aa213",
   "metadata": {},
   "outputs": [],
   "source": [
    "from sklearn.model_selection import train_test_split"
   ]
  },
  {
   "cell_type": "code",
   "execution_count": 7,
   "id": "73aae513",
   "metadata": {},
   "outputs": [
    {
     "name": "stdout",
     "output_type": "stream",
     "text": [
      "n_dataset = \t\t1319\n",
      "n_full_train = \t\t1055\n",
      "n_train = \t\t791\n",
      "n_val = \t\t264\n",
      "n_test = \t\t264\n",
      "check of sum:\n",
      "(train + val + test) = \t1319\n"
     ]
    }
   ],
   "source": [
    "# splitting the data:\n",
    "df_train_full, df_test = train_test_split(df, test_size=0.2, random_state=1)\n",
    "df_train, df_val = train_test_split(df_train_full, test_size=0.25, random_state=1)\n",
    "\n",
    "n = len(df)\n",
    "n_train_full = len(df_train_full)\n",
    "n_train = len(df_train)\n",
    "n_val = len(df_val)\n",
    "n_test = len(df_test)\n",
    "\n",
    "print(f\"n_dataset = \\t\\t{n}\")\n",
    "print(f\"n_full_train = \\t\\t{n_train_full}\")\n",
    "print(f\"n_train = \\t\\t{n_train}\")\n",
    "print(f\"n_val = \\t\\t{n_val}\")\n",
    "print(f\"n_test = \\t\\t{n_test}\")\n",
    "print(f\"check of sum:\\n(train + val + test) = \\t{n_train + n_val + n_test}\")"
   ]
  },
  {
   "cell_type": "markdown",
   "id": "9b775d7f",
   "metadata": {},
   "source": [
    "**Question 1**<br>\n",
    "\n",
    "I will use the ROC AUC to evaluate the importance of features for numeric variables.<br>\n",
    "For each numeric variable, I will use it as an outcome and calculate the AUC with the card variable.<br>\n",
    "I will use the training dataset for this.<br><br>\n",
    "\n",
    "If the AUC is < 0.5, I will invert the variable by putting a '-' in front of it<br>\n",
    "(e.g. -df_train['expenditure']).<br>\n",
    "\n",
    "If the AUC is below 0.5, if the variable is negatively correlated with the target variable. <br>\n",
    "I will change the direction of the correlation by negating that variable - then the negative correlation becomes positive. <br><br>\n",
    "\n",
    "Goal: Which numerical variable (of the following 4) has the highest AUC?<br>\n",
    "\n",
    "reports<br>\n",
    "dependents<br>\n",
    "active<br>\n",
    "share<br>\n",
    "\n"
   ]
  },
  {
   "cell_type": "code",
   "execution_count": 8,
   "id": "a5914331",
   "metadata": {},
   "outputs": [],
   "source": [
    "from sklearn.metrics import auc"
   ]
  },
  {
   "cell_type": "code",
   "execution_count": 9,
   "id": "361bd9c4",
   "metadata": {},
   "outputs": [],
   "source": [
    "def scores_by_feature(feature):\n",
    "    scores = []\n",
    "\n",
    "    thresholds = np.linspace(df_train[feature].min(), df_train[feature].max(), 50)\n",
    "\n",
    "    for t in thresholds:\n",
    "        actual_positive = df_train[\"card\"] == 1\n",
    "        actual_negative = df_train[\"card\"] == 0\n",
    "        predict_positive = df_train[feature] >= t\n",
    "        predict_negative = df_train[feature] < t\n",
    "        tp = (predict_positive & actual_positive).sum()\n",
    "        tn = (predict_negative & actual_negative).sum()\n",
    "        fp = (predict_positive & actual_negative).sum()\n",
    "        fn = (predict_negative & actual_positive).sum()\n",
    "        scores.append((t, tp, fp, fn, tn))\n",
    "\n",
    "    columns = [\"t\", \"tp\", \"fp\", \"fn\", \"tn\"]\n",
    "    df_scores = pd.DataFrame(scores, columns=columns)\n",
    "    df_scores[\"tpr\"] = df_scores[\"tp\"] / (df_scores[\"tp\"] + df_scores[\"fn\"])\n",
    "    df_scores[\"fpr\"] = df_scores[\"fp\"] / (df_scores[\"fp\"] + df_scores[\"tn\"])\n",
    "    return df_scores"
   ]
  },
  {
   "cell_type": "code",
   "execution_count": 10,
   "id": "e2cdeb60",
   "metadata": {},
   "outputs": [
    {
     "name": "stdout",
     "output_type": "stream",
     "text": [
      "AUC results for features:\n",
      "\treports = \t0.28333701393106236\n",
      "\tdependents = \t0.46719667273965293\n",
      "\tactive = \t0.6043173411362006\n",
      "\tshare = \t0.9201954397394136\n"
     ]
    }
   ],
   "source": [
    "df_scores_reports = scores_by_feature(\"reports\")\n",
    "df_scores_dependents = scores_by_feature(\"dependents\")\n",
    "df_scores_active = scores_by_feature(\"active\")\n",
    "df_scores_share = scores_by_feature(\"share\")\n",
    "\n",
    "auc_reports = auc(df_scores_reports[\"fpr\"], df_scores_reports[\"tpr\"])\n",
    "auc_dependents = auc(df_scores_dependents[\"fpr\"], df_scores_dependents[\"tpr\"])\n",
    "auc_active = auc(df_scores_active[\"fpr\"], df_scores_active[\"tpr\"])\n",
    "auc_share = auc(df_scores_share[\"fpr\"], df_scores_share[\"tpr\"])\n",
    "\n",
    "print(f'AUC results for features:')\n",
    "print(f'\\treports = \\t{auc_reports}')\n",
    "print(f'\\tdependents = \\t{auc_dependents}')\n",
    "print(f'\\tactive = \\t{auc_active}')\n",
    "print(f'\\tshare = \\t{auc_share}')"
   ]
  },
  {
   "cell_type": "code",
   "execution_count": 11,
   "id": "1acc62c7",
   "metadata": {},
   "outputs": [],
   "source": [
    "def scores_by_feature_neg(feature):\n",
    "    scores = []\n",
    "\n",
    "    thresholds = np.linspace(df_train[feature].min(), df_train[feature].max(), 50)\n",
    "\n",
    "    for t in thresholds:\n",
    "        actual_positive = df_train[\"card\"] == 1\n",
    "        actual_negative = df_train[\"card\"] == 0\n",
    "        predict_positive = df_train[feature] < t\n",
    "        predict_negative = df_train[feature] >= t\n",
    "        tp = (predict_positive & actual_positive).sum()\n",
    "        tn = (predict_negative & actual_negative).sum()\n",
    "        fp = (predict_positive & actual_negative).sum()\n",
    "        fn = (predict_negative & actual_positive).sum()\n",
    "        scores.append((t, tp, fp, fn, tn))\n",
    "        \n",
    "    columns = [\"t\", \"tp\", \"fp\", \"fn\", \"tn\"]\n",
    "    df_scores = pd.DataFrame(scores, columns=columns)\n",
    "    df_scores[\"tpr\"] = df_scores[\"tp\"] / (df_scores[\"tp\"] + df_scores[\"fn\"])\n",
    "    df_scores[\"fpr\"] = df_scores[\"fp\"] / (df_scores[\"fp\"] + df_scores[\"tn\"])\n",
    "    return df_scores"
   ]
  },
  {
   "cell_type": "code",
   "execution_count": 12,
   "id": "d5a88ec6",
   "metadata": {},
   "outputs": [
    {
     "name": "stdout",
     "output_type": "stream",
     "text": [
      "AUC results for features:\n",
      "\treports = \t0.7110132685548134\n",
      "\tdependents = \t0.5215038922320985\n",
      "\tactive = \t0.6043173411362006\n",
      "\tshare = \t0.9201954397394136\n"
     ]
    }
   ],
   "source": [
    "df_scores_reports = scores_by_feature_neg('reports')\n",
    "df_scores_dependents = scores_by_feature_neg('dependents')\n",
    "df_scores_active = scores_by_feature('active')\n",
    "df_scores_share = scores_by_feature('share')\n",
    "\n",
    "auc_reports = auc(df_scores_reports['fpr'], df_scores_reports['tpr'])\n",
    "auc_dependents = auc(df_scores_dependents['fpr'], df_scores_dependents['tpr'])\n",
    "auc_active = auc(df_scores_active['fpr'], df_scores_active['tpr'])\n",
    "auc_share = auc(df_scores_share['fpr'], df_scores_share['tpr'])\n",
    "\n",
    "print(f'AUC results for features:')\n",
    "print(f'\\treports = \\t{auc_reports}')\n",
    "print(f'\\tdependents = \\t{auc_dependents}')\n",
    "print(f'\\tactive = \\t{auc_active}')\n",
    "print(f'\\tshare = \\t{auc_share}')"
   ]
  },
  {
   "cell_type": "markdown",
   "id": "a57144ac",
   "metadata": {},
   "source": [
    "**Training the model**<br><br>\n",
    "\n",
    "From now on, use these columns only:<br>\n",
    "\n",
    "[\"reports\", \"age\", \"income\", \"share\", \"expenditure\", \"dependents\", \"months\", \"majorcards\", \"active\", \"owner\", \"selfemp\"]<br>\n",
    "\n",
    "Apply one-hot-encoding using DictVectorizer and train the logistic regression with these parameters:<br>\n",
    "\n",
    "LogisticRegression(solver='liblinear', C=1.0, max_iter=1000)\n"
   ]
  },
  {
   "cell_type": "code",
   "execution_count": 13,
   "id": "60fe9281",
   "metadata": {},
   "outputs": [],
   "source": [
    "from sklearn.model_selection import train_test_split\n",
    "from sklearn.feature_extraction import DictVectorizer\n",
    "from sklearn.linear_model import LogisticRegression\n"
   ]
  },
  {
   "cell_type": "code",
   "execution_count": 14,
   "id": "c9f41321",
   "metadata": {},
   "outputs": [],
   "source": [
    "df_train_full, df_test = train_test_split(df, test_size=0.2, random_state=1)\n",
    "df_train, df_val = train_test_split(df_train_full, test_size=0.25, random_state=1)\n",
    "\n",
    "y_train = df_train.card.values\n",
    "y_val = df_val.card.values\n",
    "y_test = df_test.card.values\n",
    "y_train_full = df_train_full.card.values"
   ]
  },
  {
   "cell_type": "markdown",
   "id": "c0040e92",
   "metadata": {},
   "source": [
    "**Question 2**<br><br>\n",
    "\n",
    "GOAL: what is the AUC of this model on the validation dataset? <br>Result (round to 3 digits)"
   ]
  },
  {
   "cell_type": "code",
   "execution_count": 15,
   "id": "fd7aed9e",
   "metadata": {},
   "outputs": [],
   "source": [
    "def train(df_train, y_train, C):\n",
    "    dicts = df_train[categorical + numerical].to_dict(orient=\"records\")\n",
    "\n",
    "    dv = DictVectorizer(sparse=False)\n",
    "    X_train = dv.fit_transform(dicts)\n",
    "\n",
    "    model = LogisticRegression(solver=\"liblinear\", max_iter=1000, C=C)\n",
    "    model.fit(X_train, y_train)\n",
    "\n",
    "    return dv, model"
   ]
  },
  {
   "cell_type": "code",
   "execution_count": 16,
   "id": "c964fdb8",
   "metadata": {},
   "outputs": [],
   "source": [
    "dv, model = train(df_train, y_train, C=1)"
   ]
  },
  {
   "cell_type": "code",
   "execution_count": 17,
   "id": "a78644b1",
   "metadata": {},
   "outputs": [],
   "source": [
    "def predict(df, dv, model):\n",
    "    dicts = df[categorical + numerical].to_dict(orient=\"records\")\n",
    "\n",
    "    X = dv.transform(dicts)\n",
    "\n",
    "    y_pred = model.predict_proba(X)[:, 1]\n",
    "\n",
    "    return y_pred"
   ]
  },
  {
   "cell_type": "code",
   "execution_count": 18,
   "id": "4917f0c2",
   "metadata": {},
   "outputs": [],
   "source": [
    "y_pred = predict(df_val, dv, model)"
   ]
  },
  {
   "cell_type": "code",
   "execution_count": 19,
   "id": "d27ddd07",
   "metadata": {},
   "outputs": [],
   "source": [
    "from sklearn.metrics import roc_auc_score"
   ]
  },
  {
   "cell_type": "code",
   "execution_count": 20,
   "id": "f87cac28",
   "metadata": {},
   "outputs": [
    {
     "name": "stdout",
     "output_type": "stream",
     "text": [
      "\n",
      "Answer to question 2:\n",
      "AUC of this model on the validation dataset is: 0.995\n"
     ]
    }
   ],
   "source": [
    "auc = roc_auc_score(y_val, y_pred)\n",
    "\n",
    "print(f\"\\nAnswer to question 2:\")\n",
    "print(f\"AUC of this model on the validation dataset is: {round(auc, 3)}\")"
   ]
  },
  {
   "cell_type": "markdown",
   "id": "a74c75d8",
   "metadata": {},
   "source": [
    "**Question 3**<br><br>\n",
    "\n",
    "I will calculate the precision and recall for our model.<br>\n",
    "\n",
    "I will evaluate the model on a validation dataset for all thresholds from 0.0 to 1.0 with a step of 0.01<br>\n",
    "I will calculate precision and recall for each threshold<br>\n",
    "For the presentation I will use plot<br>\n",
    "\n",
    "GOAL: At which threshold do the precision and recall curves intersect?"
   ]
  },
  {
   "cell_type": "code",
   "execution_count": 21,
   "id": "6df9e2f2",
   "metadata": {},
   "outputs": [
    {
     "data": {
      "text/plain": [
       "<matplotlib.legend.Legend at 0x8d5b2d3040>"
      ]
     },
     "execution_count": 21,
     "metadata": {},
     "output_type": "execute_result"
    },
    {
     "data": {
      "image/png": "[encoded data removed]",
      "text/plain": [
       "<Figure size 432x288 with 1 Axes>"
      ]
     },
     "metadata": {
      "needs_background": "light"
     },
     "output_type": "display_data"
    }
   ],
   "source": [
    "thresholds = np.linspace(0, 1, 101)\n",
    "scores = []\n",
    "for t in thresholds:\n",
    "\n",
    "    positive_predictions = y_pred >= t\n",
    "    negative_predictions = y_pred < t\n",
    "\n",
    "    positive_actual = y_val == 1\n",
    "    negative_actual = y_val == 0\n",
    "\n",
    "    tp = (positive_predictions & positive_actual).sum()\n",
    "    fp = (positive_predictions & negative_actual).sum()\n",
    "    tn = (negative_predictions & negative_actual).sum()\n",
    "    fn = (negative_predictions & positive_actual).sum()\n",
    "    score = (t, tp, fp, tn, fn)\n",
    "    scores.append(score)\n",
    "\n",
    "columns = [\"t\", \"tp\", \"fp\", \"tn\", \"fn\"]\n",
    "df_scores = pd.DataFrame(scores, columns=columns)\n",
    "df_scores[\"p\"] = df_scores[\"tp\"] / (df_scores[\"tp\"] + df_scores[\"fp\"])\n",
    "df_scores[\"r\"] = df_scores[\"tp\"] / (df_scores[\"tp\"] + df_scores[\"fn\"])\n",
    "# df_scores[\"fpr\"] = df_scores[\"fp\"] / (df_scores[\"tn\"] + df_scores[\"fp\"])\n",
    "# df_scores[\"tpr\"] = df_scores[\"tp\"] / (df_scores[\"tp\"] + df_scores[\"fn\"])\n",
    "\n",
    "plt.plot(df_scores[\"t\"], df_scores[\"p\"], label=\"precision\")\n",
    "plt.plot(df_scores[\"t\"], df_scores[\"r\"], label=\"recall\")\n",
    "plt.legend()"
   ]
  },
  {
   "cell_type": "code",
   "execution_count": 22,
   "id": "94320c11",
   "metadata": {},
   "outputs": [
    {
     "name": "stdout",
     "output_type": "stream",
     "text": [
      "\n",
      "Answer to question 3:\n",
      "Precision and recall curves intersect at threshold: 0.3\n"
     ]
    }
   ],
   "source": [
    "print(f\"\\nAnswer to question 3:\")\n",
    "print(f\"Precision and recall curves intersect at threshold: 0.3\")"
   ]
  },
  {
   "cell_type": "markdown",
   "id": "c57cfce0",
   "metadata": {},
   "source": [
    "**Question 4**\n",
    "\n",
    "Precision and recall are conflicting - when one grows, the other goes down. That's why they are often combined into the F1 score - a metrics that takes into account both\n",
    "\n",
    "This is the formula for computing $F_1$:\n",
    "\n",
    "$$F_1 = 2 \\cdot \\cfrac{P \\cdot R}{P + R}$$\n",
    "\n",
    "Where $P$ is precision and $R$ is recall.\n",
    "\n",
    "I will calculate F1 for all thresholds from 0.0 to 1.0 with an increment of 0.01 using the validation set\n",
    "\n",
    "GOAL: At which threshold F1 is maximal?"
   ]
  },
  {
   "cell_type": "code",
   "execution_count": 23,
   "id": "543e0199",
   "metadata": {},
   "outputs": [
    {
     "data": {
      "text/plain": [
       "t       0.350000\n",
       "tp    205.000000\n",
       "fp      1.000000\n",
       "tn     52.000000\n",
       "fn      6.000000\n",
       "p       0.995146\n",
       "r       0.971564\n",
       "f1      0.983213\n",
       "Name: 35, dtype: float64"
      ]
     },
     "metadata": {},
     "output_type": "display_data"
    },
    {
     "data": {
      "text/plain": [
       "<matplotlib.legend.Legend at 0x8d5d3bee90>"
      ]
     },
     "execution_count": 23,
     "metadata": {},
     "output_type": "execute_result"
    },
    {
     "data": {
      "image/png": "[encoded data removed]",
      "text/plain": [
       "<Figure size 500x300 with 1 Axes>"
      ]
     },
     "metadata": {
      "needs_background": "light"
     },
     "output_type": "display_data"
    }
   ],
   "source": [
    "df_scores[\"f1\"] = (\n",
    "    2\n",
    "    * df_scores[\"p\"]\n",
    "    * df_scores[\"r\"]\n",
    "    / (df_scores[\"p\"] + df_scores[\"r\"])\n",
    ")\n",
    "\n",
    "display(df_scores.loc[df_scores.f1.argmax()])\n",
    "\n",
    "plt.figure(figsize=(5, 3), dpi=100)\n",
    "plt.plot(\n",
    "    df_scores[\"t\"],\n",
    "    df_scores[\"f1\"],\n",
    "    label=\"f1\",\n",
    "    color=\"green\",\n",
    "    linestyle=\"dashed\",\n",
    "    linewidth=1,\n",
    ")\n",
    "plt.legend()"
   ]
  },
  {
   "cell_type": "code",
   "execution_count": 24,
   "id": "32f92771",
   "metadata": {},
   "outputs": [
    {
     "name": "stdout",
     "output_type": "stream",
     "text": [
      "\n",
      "Answer to question 4:\n",
      "The highest value of the F1 score is for the threshold: 0.35\n"
     ]
    }
   ],
   "source": [
    "print(f\"\\nAnswer to question 4:\")\n",
    "print(f\"The highest value of the F1 score is for the threshold: 0.35\")"
   ]
  },
  {
   "cell_type": "markdown",
   "id": "ba3dfac8",
   "metadata": {},
   "source": [
    "**Question 5**\n",
    "\n",
    "I will use the KFold class from Scikit-Learn to evaluate our model on 5 different folds:<br>\n",
    "KFold(n_splits=5, shuffle=True, random_state=1)\n",
    "\n",
    "Assumptions: <br>\n",
    "iterate over the different folds of df_full_train<br>\n",
    "Split the data into training and validation<br>\n",
    "Train the model on training with these parameters:<br>\n",
    "LogisticRegression(solver='liblinear', C=1.0, max_iter=1000)<br>\n",
    "Use AUC to evaluate the model in validation.\n",
    "<br><br>\n",
    "GOAL: How large is the standard deviation of the AUC results across folds?"
   ]
  },
  {
   "cell_type": "code",
   "execution_count": 25,
   "id": "13d01891",
   "metadata": {},
   "outputs": [],
   "source": [
    "from sklearn.model_selection import KFold"
   ]
  },
  {
   "cell_type": "code",
   "execution_count": 28,
   "id": "ff485284",
   "metadata": {},
   "outputs": [
    {
     "name": "stdout",
     "output_type": "stream",
     "text": [
      "\n",
      "Answer to question 5:\n",
      "The standard deviation of the AUC results in each fold is: 0.003\n"
     ]
    }
   ],
   "source": [
    "n_splits = 5\n",
    "\n",
    "scores =[]\n",
    "\n",
    "kfold = KFold(n_splits=n_splits, shuffle=True, random_state=1)\n",
    "\n",
    "for train_idx, val_idx in kfold.split(df_train_full):\n",
    "\n",
    "    df_train = df_train_full.iloc[train_idx]\n",
    "    df_val = df_train_full.iloc[val_idx]\n",
    "\n",
    "    y_train = df_train.card.values\n",
    "    y_val = df_val.card.values\n",
    "\n",
    "    dv, model = train(df_train, y_train, C=1)\n",
    "    y_pred = predict(df_val, dv, model)\n",
    "\n",
    "    auc = roc_auc_score(y_val, y_pred)\n",
    "    \n",
    "    scores.append(auc)\n",
    "\n",
    "print(f\"\\nAnswer to question 5:\")\n",
    "print(f'The standard deviation of the AUC results in each fold is: {np.round(np.std(scores),3)}')"
   ]
  },
  {
   "cell_type": "markdown",
   "id": "849233fc",
   "metadata": {},
   "source": [
    "**Question 6** <br>\n",
    "\n",
    "I will use 5-fold cross-validation to find the best parameter C<br>\n",
    "\n",
    "Assumptions:<br>\n",
    "Iterate over the following values of C: [0.01, 0.1, 1, 10]<br>\n",
    "Initialise KFold with the same parameters as before<br>\n",
    "Use these parameters for the model:<br> LogisticRegression(solver='liblinear', C=C, max_iter=1000)<br>\n",
    "Calculate the mean score as well as the std (round the mean and std to 3 decimal digits)<br><br>\n",
    "\n",
    "GOAL: Which C leads to the best average result?"
   ]
  },
  {
   "cell_type": "code",
   "execution_count": 29,
   "id": "14e07762",
   "metadata": {},
   "outputs": [],
   "source": [
    "from tqdm.auto import tqdm"
   ]
  },
  {
   "cell_type": "code",
   "execution_count": 35,
   "id": "86c4b88e",
   "metadata": {},
   "outputs": [
    {
     "data": {
      "application/vnd.jupyter.widget-view+json": {
       "model_id": "06fc2cb6928e40d3bcdcca43742d88b9",
       "version_major": 2,
       "version_minor": 0
      },
      "text/plain": [
       "  0%|          | 0/4 [00:00<?, ?it/s]"
      ]
     },
     "metadata": {},
     "output_type": "display_data"
    },
    {
     "name": "stdout",
     "output_type": "stream",
     "text": [
      "C=0.01, Mean Scores: 0.992, STD: 0.006\n",
      "C=0.1, Mean Scores: 0.995, STD: 0.004\n",
      "C=1, Mean Scores: 0.996, STD: 0.003\n",
      "C=10, Mean Scores: 0.996, STD: 0.003\n"
     ]
    }
   ],
   "source": [
    "n_splits = 5\n",
    "\n",
    "for C in tqdm([0.01, 0.1, 1, 10]):\n",
    "\n",
    "    scores = []\n",
    "\n",
    "    kfold = KFold(n_splits=n_splits, shuffle=True, random_state=1)\n",
    "\n",
    "    for train_idx, val_idx in kfold.split(df_train_full):\n",
    "\n",
    "        df_train = df_train_full.iloc[train_idx]\n",
    "        df_val = df_train_full.iloc[val_idx]\n",
    "        y_train = df_train.card.values\n",
    "        y_val = df_val.card.values\n",
    "\n",
    "        dv, model = train(df_train, y_train, C=C)\n",
    "        y_pred = predict(df_val, dv, model)\n",
    "\n",
    "        auc = roc_auc_score(y_val, y_pred)\n",
    "        scores.append(auc)\n",
    "\n",
    "    print(\n",
    "        f\"C={C}, Mean Scores: {np.round(np.mean(scores),3)}, STD: {np.round(np.std(scores),3)}\"\n",
    "    )"
   ]
  }
 ],
 "metadata": {
  "kernelspec": {
   "display_name": "Python 3 (ipykernel)",
   "language": "python",
   "name": "python3"
  },
  "language_info": {
   "codemirror_mode": {
    "name": "ipython",
    "version": 3
   },
   "file_extension": ".py",
   "mimetype": "text/x-python",
   "name": "python",
   "nbconvert_exporter": "python",
   "pygments_lexer": "ipython3",
   "version": "3.10.4"
  }
 },
 "nbformat": 4,
 "nbformat_minor": 5
}
