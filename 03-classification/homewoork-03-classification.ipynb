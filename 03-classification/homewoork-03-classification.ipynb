{
 "cells": [
  {
   "cell_type": "markdown",
   "metadata": {},
   "source": [
    "**Dataset**<br>\n",
    "In this homework, we will use the California Housing Prices data from [Kaggle](https://www.kaggle.com/datasets/camnugent/california-housing-prices).<br>\n",
    "<br>\n",
    "Goal: Transform \"midean_house_value\" (house price) and create a classification model "
   ]
  },
  {
   "cell_type": "code",
   "execution_count": 1,
   "metadata": {
    "_cell_guid": "b1076dfc-b9ad-4769-8c92-a6c4dae69d19",
    "_uuid": "8f2839f25d086af736a60e9eeb907d3b93b6e0e5",
    "execution": {
     "iopub.execute_input": "2022-09-25T14:34:55.566074Z",
     "iopub.status.busy": "2022-09-25T14:34:55.565554Z",
     "iopub.status.idle": "2022-09-25T14:34:55.591160Z",
     "shell.execute_reply": "2022-09-25T14:34:55.589725Z",
     "shell.execute_reply.started": "2022-09-25T14:34:55.565961Z"
    }
   },
   "outputs": [],
   "source": [
    "# Preparing the environment\n",
    "import numpy as np # linear algebra\n",
    "import pandas as pd # data processing, CSV file I/O (e.g. pd.read_csv)\n",
    "from matplotlib import pyplot as plt # library for creating static, animated, and interactive visualizations\n",
    "import seaborn as sns # data visualization library based on matplotlib"
   ]
  },
  {
   "cell_type": "markdown",
   "metadata": {},
   "source": [
    "Exploratory Data Analysis // **EDA**"
   ]
  },
  {
   "cell_type": "code",
   "execution_count": 2,
   "metadata": {
    "execution": {
     "iopub.execute_input": "2022-09-25T14:35:04.245981Z",
     "iopub.status.busy": "2022-09-25T14:35:04.245569Z",
     "iopub.status.idle": "2022-09-25T14:35:04.335212Z",
     "shell.execute_reply": "2022-09-25T14:35:04.334344Z",
     "shell.execute_reply.started": "2022-09-25T14:35:04.245946Z"
    }
   },
   "outputs": [
    {
     "data": {
      "text/html": [
       "<div>\n",
       "<style scoped>\n",
       "    .dataframe tbody tr th:only-of-type {\n",
       "        vertical-align: middle;\n",
       "    }\n",
       "\n",
       "    .dataframe tbody tr th {\n",
       "        vertical-align: top;\n",
       "    }\n",
       "\n",
       "    .dataframe thead th {\n",
       "        text-align: right;\n",
       "    }\n",
       "</style>\n",
       "<table border=\"1\" class=\"dataframe\">\n",
       "  <thead>\n",
       "    <tr style=\"text-align: right;\">\n",
       "      <th></th>\n",
       "      <th>longitude</th>\n",
       "      <th>latitude</th>\n",
       "      <th>housing_median_age</th>\n",
       "      <th>total_rooms</th>\n",
       "      <th>total_bedrooms</th>\n",
       "      <th>population</th>\n",
       "      <th>households</th>\n",
       "      <th>median_income</th>\n",
       "      <th>median_house_value</th>\n",
       "      <th>ocean_proximity</th>\n",
       "    </tr>\n",
       "  </thead>\n",
       "  <tbody>\n",
       "    <tr>\n",
       "      <th>0</th>\n",
       "      <td>-122.23</td>\n",
       "      <td>37.88</td>\n",
       "      <td>41.0</td>\n",
       "      <td>880.0</td>\n",
       "      <td>129.0</td>\n",
       "      <td>322.0</td>\n",
       "      <td>126.0</td>\n",
       "      <td>8.3252</td>\n",
       "      <td>452600.0</td>\n",
       "      <td>NEAR BAY</td>\n",
       "    </tr>\n",
       "    <tr>\n",
       "      <th>1</th>\n",
       "      <td>-122.22</td>\n",
       "      <td>37.86</td>\n",
       "      <td>21.0</td>\n",
       "      <td>7099.0</td>\n",
       "      <td>1106.0</td>\n",
       "      <td>2401.0</td>\n",
       "      <td>1138.0</td>\n",
       "      <td>8.3014</td>\n",
       "      <td>358500.0</td>\n",
       "      <td>NEAR BAY</td>\n",
       "    </tr>\n",
       "    <tr>\n",
       "      <th>2</th>\n",
       "      <td>-122.24</td>\n",
       "      <td>37.85</td>\n",
       "      <td>52.0</td>\n",
       "      <td>1467.0</td>\n",
       "      <td>190.0</td>\n",
       "      <td>496.0</td>\n",
       "      <td>177.0</td>\n",
       "      <td>7.2574</td>\n",
       "      <td>352100.0</td>\n",
       "      <td>NEAR BAY</td>\n",
       "    </tr>\n",
       "    <tr>\n",
       "      <th>3</th>\n",
       "      <td>-122.25</td>\n",
       "      <td>37.85</td>\n",
       "      <td>52.0</td>\n",
       "      <td>1274.0</td>\n",
       "      <td>235.0</td>\n",
       "      <td>558.0</td>\n",
       "      <td>219.0</td>\n",
       "      <td>5.6431</td>\n",
       "      <td>341300.0</td>\n",
       "      <td>NEAR BAY</td>\n",
       "    </tr>\n",
       "    <tr>\n",
       "      <th>4</th>\n",
       "      <td>-122.25</td>\n",
       "      <td>37.85</td>\n",
       "      <td>52.0</td>\n",
       "      <td>1627.0</td>\n",
       "      <td>280.0</td>\n",
       "      <td>565.0</td>\n",
       "      <td>259.0</td>\n",
       "      <td>3.8462</td>\n",
       "      <td>342200.0</td>\n",
       "      <td>NEAR BAY</td>\n",
       "    </tr>\n",
       "  </tbody>\n",
       "</table>\n",
       "</div>"
      ],
      "text/plain": [
       "   longitude  latitude  housing_median_age  total_rooms  total_bedrooms  \\\n",
       "0    -122.23     37.88                41.0        880.0           129.0   \n",
       "1    -122.22     37.86                21.0       7099.0          1106.0   \n",
       "2    -122.24     37.85                52.0       1467.0           190.0   \n",
       "3    -122.25     37.85                52.0       1274.0           235.0   \n",
       "4    -122.25     37.85                52.0       1627.0           280.0   \n",
       "\n",
       "   population  households  median_income  median_house_value ocean_proximity  \n",
       "0       322.0       126.0         8.3252            452600.0        NEAR BAY  \n",
       "1      2401.0      1138.0         8.3014            358500.0        NEAR BAY  \n",
       "2       496.0       177.0         7.2574            352100.0        NEAR BAY  \n",
       "3       558.0       219.0         5.6431            341300.0        NEAR BAY  \n",
       "4       565.0       259.0         3.8462            342200.0        NEAR BAY  "
      ]
     },
     "execution_count": 2,
     "metadata": {},
     "output_type": "execute_result"
    }
   ],
   "source": [
    "# Load the Dataset into a DataFrame\n",
    "df = pd.read_csv('housing.csv')\n",
    "df.head()"
   ]
  },
  {
   "cell_type": "code",
   "execution_count": 3,
   "metadata": {
    "execution": {
     "iopub.execute_input": "2022-09-25T14:35:06.539004Z",
     "iopub.status.busy": "2022-09-25T14:35:06.538544Z",
     "iopub.status.idle": "2022-09-25T14:35:06.554561Z",
     "shell.execute_reply": "2022-09-25T14:35:06.553416Z",
     "shell.execute_reply.started": "2022-09-25T14:35:06.538956Z"
    }
   },
   "outputs": [],
   "source": [
    "#For the rest of the homework, I'll need to use only these columns:\n",
    "\n",
    "df = df[[\n",
    "    'latitude',\n",
    "    'longitude',\n",
    "    'housing_median_age',\n",
    "    'total_rooms',\n",
    "    'total_bedrooms',\n",
    "    'population',\n",
    "    'households',\n",
    "    'median_income',\n",
    "    'ocean_proximity',\n",
    "    'median_house_value'\n",
    "]]"
   ]
  },
  {
   "cell_type": "code",
   "execution_count": 4,
   "metadata": {
    "execution": {
     "iopub.execute_input": "2022-09-25T20:32:22.555876Z",
     "iopub.status.busy": "2022-09-25T20:32:22.555411Z",
     "iopub.status.idle": "2022-09-25T20:32:22.643054Z",
     "shell.execute_reply": "2022-09-25T20:32:22.641832Z",
     "shell.execute_reply.started": "2022-09-25T20:32:22.555826Z"
    }
   },
   "outputs": [
    {
     "data": {
      "text/html": [
       "<div>\n",
       "<style scoped>\n",
       "    .dataframe tbody tr th:only-of-type {\n",
       "        vertical-align: middle;\n",
       "    }\n",
       "\n",
       "    .dataframe tbody tr th {\n",
       "        vertical-align: top;\n",
       "    }\n",
       "\n",
       "    .dataframe thead th {\n",
       "        text-align: right;\n",
       "    }\n",
       "</style>\n",
       "<table border=\"1\" class=\"dataframe\">\n",
       "  <thead>\n",
       "    <tr style=\"text-align: right;\">\n",
       "      <th></th>\n",
       "      <th>latitude</th>\n",
       "      <th>longitude</th>\n",
       "      <th>housing_median_age</th>\n",
       "      <th>total_rooms</th>\n",
       "      <th>total_bedrooms</th>\n",
       "      <th>population</th>\n",
       "      <th>households</th>\n",
       "      <th>median_income</th>\n",
       "      <th>ocean_proximity</th>\n",
       "      <th>median_house_value</th>\n",
       "    </tr>\n",
       "  </thead>\n",
       "  <tbody>\n",
       "    <tr>\n",
       "      <th>0</th>\n",
       "      <td>37.88</td>\n",
       "      <td>-122.23</td>\n",
       "      <td>41.0</td>\n",
       "      <td>880.0</td>\n",
       "      <td>129.0</td>\n",
       "      <td>322.0</td>\n",
       "      <td>126.0</td>\n",
       "      <td>8.3252</td>\n",
       "      <td>NEAR BAY</td>\n",
       "      <td>452600.0</td>\n",
       "    </tr>\n",
       "    <tr>\n",
       "      <th>1</th>\n",
       "      <td>37.86</td>\n",
       "      <td>-122.22</td>\n",
       "      <td>21.0</td>\n",
       "      <td>7099.0</td>\n",
       "      <td>1106.0</td>\n",
       "      <td>2401.0</td>\n",
       "      <td>1138.0</td>\n",
       "      <td>8.3014</td>\n",
       "      <td>NEAR BAY</td>\n",
       "      <td>358500.0</td>\n",
       "    </tr>\n",
       "    <tr>\n",
       "      <th>2</th>\n",
       "      <td>37.85</td>\n",
       "      <td>-122.24</td>\n",
       "      <td>52.0</td>\n",
       "      <td>1467.0</td>\n",
       "      <td>190.0</td>\n",
       "      <td>496.0</td>\n",
       "      <td>177.0</td>\n",
       "      <td>7.2574</td>\n",
       "      <td>NEAR BAY</td>\n",
       "      <td>352100.0</td>\n",
       "    </tr>\n",
       "    <tr>\n",
       "      <th>3</th>\n",
       "      <td>37.85</td>\n",
       "      <td>-122.25</td>\n",
       "      <td>52.0</td>\n",
       "      <td>1274.0</td>\n",
       "      <td>235.0</td>\n",
       "      <td>558.0</td>\n",
       "      <td>219.0</td>\n",
       "      <td>5.6431</td>\n",
       "      <td>NEAR BAY</td>\n",
       "      <td>341300.0</td>\n",
       "    </tr>\n",
       "    <tr>\n",
       "      <th>4</th>\n",
       "      <td>37.85</td>\n",
       "      <td>-122.25</td>\n",
       "      <td>52.0</td>\n",
       "      <td>1627.0</td>\n",
       "      <td>280.0</td>\n",
       "      <td>565.0</td>\n",
       "      <td>259.0</td>\n",
       "      <td>3.8462</td>\n",
       "      <td>NEAR BAY</td>\n",
       "      <td>342200.0</td>\n",
       "    </tr>\n",
       "  </tbody>\n",
       "</table>\n",
       "</div>"
      ],
      "text/plain": [
       "   latitude  longitude  housing_median_age  total_rooms  total_bedrooms  \\\n",
       "0     37.88    -122.23                41.0        880.0           129.0   \n",
       "1     37.86    -122.22                21.0       7099.0          1106.0   \n",
       "2     37.85    -122.24                52.0       1467.0           190.0   \n",
       "3     37.85    -122.25                52.0       1274.0           235.0   \n",
       "4     37.85    -122.25                52.0       1627.0           280.0   \n",
       "\n",
       "   population  households  median_income ocean_proximity  median_house_value  \n",
       "0       322.0       126.0         8.3252        NEAR BAY            452600.0  \n",
       "1      2401.0      1138.0         8.3014        NEAR BAY            358500.0  \n",
       "2       496.0       177.0         7.2574        NEAR BAY            352100.0  \n",
       "3       558.0       219.0         5.6431        NEAR BAY            341300.0  \n",
       "4       565.0       259.0         3.8462        NEAR BAY            342200.0  "
      ]
     },
     "metadata": {},
     "output_type": "display_data"
    },
    {
     "name": "stdout",
     "output_type": "stream",
     "text": [
      "\n",
      "dataset describe:\n"
     ]
    },
    {
     "data": {
      "text/html": [
       "<div>\n",
       "<style scoped>\n",
       "    .dataframe tbody tr th:only-of-type {\n",
       "        vertical-align: middle;\n",
       "    }\n",
       "\n",
       "    .dataframe tbody tr th {\n",
       "        vertical-align: top;\n",
       "    }\n",
       "\n",
       "    .dataframe thead th {\n",
       "        text-align: right;\n",
       "    }\n",
       "</style>\n",
       "<table border=\"1\" class=\"dataframe\">\n",
       "  <thead>\n",
       "    <tr style=\"text-align: right;\">\n",
       "      <th></th>\n",
       "      <th>latitude</th>\n",
       "      <th>longitude</th>\n",
       "      <th>housing_median_age</th>\n",
       "      <th>total_rooms</th>\n",
       "      <th>total_bedrooms</th>\n",
       "      <th>population</th>\n",
       "      <th>households</th>\n",
       "      <th>median_income</th>\n",
       "      <th>median_house_value</th>\n",
       "    </tr>\n",
       "  </thead>\n",
       "  <tbody>\n",
       "    <tr>\n",
       "      <th>count</th>\n",
       "      <td>20640.000000</td>\n",
       "      <td>20640.000000</td>\n",
       "      <td>20640.000000</td>\n",
       "      <td>20640.000000</td>\n",
       "      <td>20640.000000</td>\n",
       "      <td>20640.000000</td>\n",
       "      <td>20640.000000</td>\n",
       "      <td>20640.000000</td>\n",
       "      <td>20640.000000</td>\n",
       "    </tr>\n",
       "    <tr>\n",
       "      <th>mean</th>\n",
       "      <td>35.631861</td>\n",
       "      <td>-119.569704</td>\n",
       "      <td>28.639486</td>\n",
       "      <td>2635.763081</td>\n",
       "      <td>532.476211</td>\n",
       "      <td>1425.476744</td>\n",
       "      <td>499.539680</td>\n",
       "      <td>3.870671</td>\n",
       "      <td>206855.816909</td>\n",
       "    </tr>\n",
       "    <tr>\n",
       "      <th>std</th>\n",
       "      <td>2.135952</td>\n",
       "      <td>2.003532</td>\n",
       "      <td>12.585558</td>\n",
       "      <td>2181.615252</td>\n",
       "      <td>422.678333</td>\n",
       "      <td>1132.462122</td>\n",
       "      <td>382.329753</td>\n",
       "      <td>1.899822</td>\n",
       "      <td>115395.615874</td>\n",
       "    </tr>\n",
       "    <tr>\n",
       "      <th>min</th>\n",
       "      <td>32.540000</td>\n",
       "      <td>-124.350000</td>\n",
       "      <td>1.000000</td>\n",
       "      <td>2.000000</td>\n",
       "      <td>0.000000</td>\n",
       "      <td>3.000000</td>\n",
       "      <td>1.000000</td>\n",
       "      <td>0.499900</td>\n",
       "      <td>14999.000000</td>\n",
       "    </tr>\n",
       "    <tr>\n",
       "      <th>25%</th>\n",
       "      <td>33.930000</td>\n",
       "      <td>-121.800000</td>\n",
       "      <td>18.000000</td>\n",
       "      <td>1447.750000</td>\n",
       "      <td>292.000000</td>\n",
       "      <td>787.000000</td>\n",
       "      <td>280.000000</td>\n",
       "      <td>2.563400</td>\n",
       "      <td>119600.000000</td>\n",
       "    </tr>\n",
       "    <tr>\n",
       "      <th>50%</th>\n",
       "      <td>34.260000</td>\n",
       "      <td>-118.490000</td>\n",
       "      <td>29.000000</td>\n",
       "      <td>2127.000000</td>\n",
       "      <td>431.000000</td>\n",
       "      <td>1166.000000</td>\n",
       "      <td>409.000000</td>\n",
       "      <td>3.534800</td>\n",
       "      <td>179700.000000</td>\n",
       "    </tr>\n",
       "    <tr>\n",
       "      <th>75%</th>\n",
       "      <td>37.710000</td>\n",
       "      <td>-118.010000</td>\n",
       "      <td>37.000000</td>\n",
       "      <td>3148.000000</td>\n",
       "      <td>643.250000</td>\n",
       "      <td>1725.000000</td>\n",
       "      <td>605.000000</td>\n",
       "      <td>4.743250</td>\n",
       "      <td>264725.000000</td>\n",
       "    </tr>\n",
       "    <tr>\n",
       "      <th>max</th>\n",
       "      <td>41.950000</td>\n",
       "      <td>-114.310000</td>\n",
       "      <td>52.000000</td>\n",
       "      <td>39320.000000</td>\n",
       "      <td>6445.000000</td>\n",
       "      <td>35682.000000</td>\n",
       "      <td>6082.000000</td>\n",
       "      <td>15.000100</td>\n",
       "      <td>500001.000000</td>\n",
       "    </tr>\n",
       "  </tbody>\n",
       "</table>\n",
       "</div>"
      ],
      "text/plain": [
       "           latitude     longitude  housing_median_age   total_rooms  \\\n",
       "count  20640.000000  20640.000000        20640.000000  20640.000000   \n",
       "mean      35.631861   -119.569704           28.639486   2635.763081   \n",
       "std        2.135952      2.003532           12.585558   2181.615252   \n",
       "min       32.540000   -124.350000            1.000000      2.000000   \n",
       "25%       33.930000   -121.800000           18.000000   1447.750000   \n",
       "50%       34.260000   -118.490000           29.000000   2127.000000   \n",
       "75%       37.710000   -118.010000           37.000000   3148.000000   \n",
       "max       41.950000   -114.310000           52.000000  39320.000000   \n",
       "\n",
       "       total_bedrooms    population    households  median_income  \\\n",
       "count    20640.000000  20640.000000  20640.000000   20640.000000   \n",
       "mean       532.476211   1425.476744    499.539680       3.870671   \n",
       "std        422.678333   1132.462122    382.329753       1.899822   \n",
       "min          0.000000      3.000000      1.000000       0.499900   \n",
       "25%        292.000000    787.000000    280.000000       2.563400   \n",
       "50%        431.000000   1166.000000    409.000000       3.534800   \n",
       "75%        643.250000   1725.000000    605.000000       4.743250   \n",
       "max       6445.000000  35682.000000   6082.000000      15.000100   \n",
       "\n",
       "       median_house_value  \n",
       "count        20640.000000  \n",
       "mean        206855.816909  \n",
       "std         115395.615874  \n",
       "min          14999.000000  \n",
       "25%         119600.000000  \n",
       "50%         179700.000000  \n",
       "75%         264725.000000  \n",
       "max         500001.000000  "
      ]
     },
     "metadata": {},
     "output_type": "display_data"
    },
    {
     "name": "stdout",
     "output_type": "stream",
     "text": [
      "\n",
      "ocean_proximity unique values:\n"
     ]
    },
    {
     "data": {
      "text/plain": [
       "array(['NEAR BAY', '<1H OCEAN', 'INLAND', 'NEAR OCEAN', 'ISLAND'],\n",
       "      dtype=object)"
      ]
     },
     "metadata": {},
     "output_type": "display_data"
    },
    {
     "name": "stdout",
     "output_type": "stream",
     "text": [
      "\n",
      "dataset len:\n"
     ]
    },
    {
     "data": {
      "text/plain": [
       "20640"
      ]
     },
     "metadata": {},
     "output_type": "display_data"
    }
   ],
   "source": [
    "# Preparation and cleaning of the data set\n",
    "# Select only the features from above and fill in the missing values with 0.\n",
    "df = df.fillna(0)\n",
    "display(df.head())\n",
    "print(f\"\\ndataset describe:\")\n",
    "display(df.describe())\n",
    "print(f\"\\nocean_proximity unique values:\")\n",
    "display(df.ocean_proximity.unique())\n",
    "print(f\"\\ndataset len:\")\n",
    "display(len(df))\n"
   ]
  },
  {
   "cell_type": "markdown",
   "metadata": {},
   "source": [
    "**Preparation and cleaning** of the data set"
   ]
  },
  {
   "cell_type": "code",
   "execution_count": 5,
   "metadata": {
    "execution": {
     "iopub.execute_input": "2022-09-25T14:35:43.342549Z",
     "iopub.status.busy": "2022-09-25T14:35:43.342144Z",
     "iopub.status.idle": "2022-09-25T14:35:43.368520Z",
     "shell.execute_reply": "2022-09-25T14:35:43.367225Z",
     "shell.execute_reply.started": "2022-09-25T14:35:43.342514Z"
    }
   },
   "outputs": [],
   "source": [
    "df.columns = df.columns.str.lower().str.replace(' ', '_')\n",
    "\n",
    "string_columns = list(df.dtypes[df.dtypes == 'object'].index)\n",
    "\n",
    "for col in string_columns:\n",
    "    df[col] = df[col].str.lower().str.replace(' ', '_')"
   ]
  },
  {
   "cell_type": "code",
   "execution_count": 6,
   "metadata": {
    "execution": {
     "iopub.execute_input": "2022-09-25T14:35:44.928127Z",
     "iopub.status.busy": "2022-09-25T14:35:44.927369Z",
     "iopub.status.idle": "2022-09-25T14:35:44.934668Z",
     "shell.execute_reply": "2022-09-25T14:35:44.933725Z",
     "shell.execute_reply.started": "2022-09-25T14:35:44.928088Z"
    }
   },
   "outputs": [],
   "source": [
    "# Create a new column \"rooms_per_household\": dividing \"total_rooms\" by the column \"households\"\n",
    "df['room_per_household'] = df['total_rooms'] / df['households']"
   ]
  },
  {
   "cell_type": "code",
   "execution_count": 7,
   "metadata": {
    "execution": {
     "iopub.execute_input": "2022-09-25T14:35:47.003829Z",
     "iopub.status.busy": "2022-09-25T14:35:47.003049Z",
     "iopub.status.idle": "2022-09-25T14:35:47.009802Z",
     "shell.execute_reply": "2022-09-25T14:35:47.008618Z",
     "shell.execute_reply.started": "2022-09-25T14:35:47.003792Z"
    }
   },
   "outputs": [],
   "source": [
    "# Create a new column bedrooms_per_room by dividing the column total_bedrooms by the column total_rooms from dataframe.\n",
    "df['bedrooms_per_room'] = df['total_bedrooms'] / df['total_rooms']"
   ]
  },
  {
   "cell_type": "code",
   "execution_count": 8,
   "metadata": {
    "execution": {
     "iopub.execute_input": "2022-09-25T14:35:50.503275Z",
     "iopub.status.busy": "2022-09-25T14:35:50.502826Z",
     "iopub.status.idle": "2022-09-25T14:35:50.517918Z",
     "shell.execute_reply": "2022-09-25T14:35:50.516975Z",
     "shell.execute_reply.started": "2022-09-25T14:35:50.503235Z"
    }
   },
   "outputs": [
    {
     "data": {
      "text/html": [
       "<div>\n",
       "<style scoped>\n",
       "    .dataframe tbody tr th:only-of-type {\n",
       "        vertical-align: middle;\n",
       "    }\n",
       "\n",
       "    .dataframe tbody tr th {\n",
       "        vertical-align: top;\n",
       "    }\n",
       "\n",
       "    .dataframe thead th {\n",
       "        text-align: right;\n",
       "    }\n",
       "</style>\n",
       "<table border=\"1\" class=\"dataframe\">\n",
       "  <thead>\n",
       "    <tr style=\"text-align: right;\">\n",
       "      <th></th>\n",
       "      <th>0</th>\n",
       "      <th>1</th>\n",
       "    </tr>\n",
       "  </thead>\n",
       "  <tbody>\n",
       "    <tr>\n",
       "      <th>latitude</th>\n",
       "      <td>37.88</td>\n",
       "      <td>37.86</td>\n",
       "    </tr>\n",
       "    <tr>\n",
       "      <th>longitude</th>\n",
       "      <td>-122.23</td>\n",
       "      <td>-122.22</td>\n",
       "    </tr>\n",
       "    <tr>\n",
       "      <th>housing_median_age</th>\n",
       "      <td>41.0</td>\n",
       "      <td>21.0</td>\n",
       "    </tr>\n",
       "    <tr>\n",
       "      <th>total_rooms</th>\n",
       "      <td>880.0</td>\n",
       "      <td>7099.0</td>\n",
       "    </tr>\n",
       "    <tr>\n",
       "      <th>total_bedrooms</th>\n",
       "      <td>129.0</td>\n",
       "      <td>1106.0</td>\n",
       "    </tr>\n",
       "    <tr>\n",
       "      <th>population</th>\n",
       "      <td>322.0</td>\n",
       "      <td>2401.0</td>\n",
       "    </tr>\n",
       "    <tr>\n",
       "      <th>households</th>\n",
       "      <td>126.0</td>\n",
       "      <td>1138.0</td>\n",
       "    </tr>\n",
       "    <tr>\n",
       "      <th>median_income</th>\n",
       "      <td>8.3252</td>\n",
       "      <td>8.3014</td>\n",
       "    </tr>\n",
       "    <tr>\n",
       "      <th>ocean_proximity</th>\n",
       "      <td>near_bay</td>\n",
       "      <td>near_bay</td>\n",
       "    </tr>\n",
       "    <tr>\n",
       "      <th>median_house_value</th>\n",
       "      <td>452600.0</td>\n",
       "      <td>358500.0</td>\n",
       "    </tr>\n",
       "    <tr>\n",
       "      <th>room_per_household</th>\n",
       "      <td>6.984127</td>\n",
       "      <td>6.238137</td>\n",
       "    </tr>\n",
       "    <tr>\n",
       "      <th>bedrooms_per_room</th>\n",
       "      <td>0.146591</td>\n",
       "      <td>0.155797</td>\n",
       "    </tr>\n",
       "    <tr>\n",
       "      <th>population_per_household</th>\n",
       "      <td>2.555556</td>\n",
       "      <td>2.109842</td>\n",
       "    </tr>\n",
       "  </tbody>\n",
       "</table>\n",
       "</div>"
      ],
      "text/plain": [
       "                                 0         1\n",
       "latitude                     37.88     37.86\n",
       "longitude                  -122.23   -122.22\n",
       "housing_median_age            41.0      21.0\n",
       "total_rooms                  880.0    7099.0\n",
       "total_bedrooms               129.0    1106.0\n",
       "population                   322.0    2401.0\n",
       "households                   126.0    1138.0\n",
       "median_income               8.3252    8.3014\n",
       "ocean_proximity           near_bay  near_bay\n",
       "median_house_value        452600.0  358500.0\n",
       "room_per_household        6.984127  6.238137\n",
       "bedrooms_per_room         0.146591  0.155797\n",
       "population_per_household  2.555556  2.109842"
      ]
     },
     "execution_count": 8,
     "metadata": {},
     "output_type": "execute_result"
    }
   ],
   "source": [
    "# Create a new column population_per_household by dividing the column population by the column households from dataframe.\n",
    "df['population_per_household'] = df['population'] / df['households']\n",
    "df.head(2).T"
   ]
  },
  {
   "cell_type": "markdown",
   "metadata": {},
   "source": [
    "**Question 1**<br><br>\n",
    "Goal: What is the most frequent observation (mode) for the column ocean_proximity?"
   ]
  },
  {
   "cell_type": "code",
   "execution_count": 9,
   "metadata": {
    "execution": {
     "iopub.execute_input": "2022-09-25T21:37:29.573718Z",
     "iopub.status.busy": "2022-09-25T21:37:29.571521Z",
     "iopub.status.idle": "2022-09-25T21:37:29.603591Z",
     "shell.execute_reply": "2022-09-25T21:37:29.600935Z",
     "shell.execute_reply.started": "2022-09-25T21:37:29.573639Z"
    }
   },
   "outputs": [
    {
     "name": "stdout",
     "output_type": "stream",
     "text": [
      "\n",
      "Answer to question 1:\n",
      "Most frequent observation (mode) for the column ocean_proximity: <1h_ocean\n"
     ]
    }
   ],
   "source": [
    "#mode = df.ocean_proximity.value_counts().sort_values(ascending=False).head(1)\n",
    "mode = df.ocean_proximity.mode()[0]\n",
    "\n",
    "print(f\"\\nAnswer to question 1:\")\n",
    "print(f\"Most frequent observation (mode) for the column ocean_proximity: {mode}\")"
   ]
  },
  {
   "cell_type": "markdown",
   "metadata": {},
   "source": [
    "Data split<br><br>\n",
    "Split your data in train/val/test sets, with 60%/20%/20% distribution.<br>\n",
    "Use Scikit-Learn for that (the train_test_split function) and set the seed to 42.<br>\n",
    "Make sure that the target value (median_house_value) is not in your dataframe."
   ]
  },
  {
   "cell_type": "code",
   "execution_count": 10,
   "metadata": {},
   "outputs": [],
   "source": [
    "from sklearn.model_selection import train_test_split"
   ]
  },
  {
   "cell_type": "code",
   "execution_count": 11,
   "metadata": {
    "execution": {
     "iopub.execute_input": "2022-09-25T14:37:11.610382Z",
     "iopub.status.busy": "2022-09-25T14:37:11.609993Z",
     "iopub.status.idle": "2022-09-25T14:37:11.637534Z",
     "shell.execute_reply": "2022-09-25T14:37:11.636620Z",
     "shell.execute_reply.started": "2022-09-25T14:37:11.610350Z"
    }
   },
   "outputs": [
    {
     "name": "stdout",
     "output_type": "stream",
     "text": [
      "n_dataset = \t\t20640\n",
      "n_full_train = \t\t16512\n",
      "n_train = \t\t12384\n",
      "n_val = \t\t4128\n",
      "n_test = \t\t4128\n",
      "check of sum:\n",
      "(train + val + test) = \t20640\n"
     ]
    }
   ],
   "source": [
    "# splitting the data:\n",
    "df_full_train, df_test = train_test_split(df, test_size=0.2, random_state=42)\n",
    "df_train, df_val = train_test_split(df_full_train, test_size=0.25, random_state=42)\n",
    "\n",
    "n = len(df)\n",
    "n_full_train = len(df_full_train)\n",
    "n_train = len(df_train)\n",
    "n_val = len(df_val)\n",
    "n_test = len(df_test)\n",
    "\n",
    "print(f'n_dataset = \\t\\t{n}')\n",
    "print(f'n_full_train = \\t\\t{n_full_train}')\n",
    "print(f'n_train = \\t\\t{n_train}')\n",
    "print(f'n_val = \\t\\t{n_val}')\n",
    "print(f'n_test = \\t\\t{n_test}')\n",
    "print(f'check of sum:\\n(train + val + test) = \\t{n_train + n_val + n_test}')"
   ]
  },
  {
   "cell_type": "code",
   "execution_count": 12,
   "metadata": {
    "execution": {
     "iopub.execute_input": "2022-09-25T14:37:16.935778Z",
     "iopub.status.busy": "2022-09-25T14:37:16.935365Z",
     "iopub.status.idle": "2022-09-25T14:37:16.990713Z",
     "shell.execute_reply": "2022-09-25T14:37:16.989159Z",
     "shell.execute_reply.started": "2022-09-25T14:37:16.935744Z"
    }
   },
   "outputs": [
    {
     "data": {
      "text/html": [
       "<div>\n",
       "<style scoped>\n",
       "    .dataframe tbody tr th:only-of-type {\n",
       "        vertical-align: middle;\n",
       "    }\n",
       "\n",
       "    .dataframe tbody tr th {\n",
       "        vertical-align: top;\n",
       "    }\n",
       "\n",
       "    .dataframe thead th {\n",
       "        text-align: right;\n",
       "    }\n",
       "</style>\n",
       "<table border=\"1\" class=\"dataframe\">\n",
       "  <thead>\n",
       "    <tr style=\"text-align: right;\">\n",
       "      <th></th>\n",
       "      <th>latitude</th>\n",
       "      <th>longitude</th>\n",
       "      <th>housing_median_age</th>\n",
       "      <th>total_rooms</th>\n",
       "      <th>total_bedrooms</th>\n",
       "      <th>population</th>\n",
       "      <th>households</th>\n",
       "      <th>median_income</th>\n",
       "      <th>ocean_proximity</th>\n",
       "      <th>median_house_value</th>\n",
       "      <th>room_per_household</th>\n",
       "      <th>bedrooms_per_room</th>\n",
       "      <th>population_per_household</th>\n",
       "    </tr>\n",
       "  </thead>\n",
       "  <tbody>\n",
       "    <tr>\n",
       "      <th>0</th>\n",
       "      <td>34.43</td>\n",
       "      <td>-119.67</td>\n",
       "      <td>39.0</td>\n",
       "      <td>1467.0</td>\n",
       "      <td>381.0</td>\n",
       "      <td>1404.0</td>\n",
       "      <td>374.0</td>\n",
       "      <td>2.3681</td>\n",
       "      <td>&lt;1h_ocean</td>\n",
       "      <td>241400.0</td>\n",
       "      <td>3.922460</td>\n",
       "      <td>0.259714</td>\n",
       "      <td>3.754011</td>\n",
       "    </tr>\n",
       "    <tr>\n",
       "      <th>1</th>\n",
       "      <td>33.74</td>\n",
       "      <td>-118.32</td>\n",
       "      <td>24.0</td>\n",
       "      <td>6097.0</td>\n",
       "      <td>794.0</td>\n",
       "      <td>2248.0</td>\n",
       "      <td>806.0</td>\n",
       "      <td>10.1357</td>\n",
       "      <td>near_ocean</td>\n",
       "      <td>500001.0</td>\n",
       "      <td>7.564516</td>\n",
       "      <td>0.130228</td>\n",
       "      <td>2.789082</td>\n",
       "    </tr>\n",
       "  </tbody>\n",
       "</table>\n",
       "</div>"
      ],
      "text/plain": [
       "   latitude  longitude  housing_median_age  total_rooms  total_bedrooms  \\\n",
       "0     34.43    -119.67                39.0       1467.0           381.0   \n",
       "1     33.74    -118.32                24.0       6097.0           794.0   \n",
       "\n",
       "   population  households  median_income ocean_proximity  median_house_value  \\\n",
       "0      1404.0       374.0         2.3681       <1h_ocean            241400.0   \n",
       "1      2248.0       806.0        10.1357      near_ocean            500001.0   \n",
       "\n",
       "   room_per_household  bedrooms_per_room  population_per_household  \n",
       "0            3.922460           0.259714                  3.754011  \n",
       "1            7.564516           0.130228                  2.789082  "
      ]
     },
     "metadata": {},
     "output_type": "display_data"
    },
    {
     "data": {
      "text/html": [
       "<div>\n",
       "<style scoped>\n",
       "    .dataframe tbody tr th:only-of-type {\n",
       "        vertical-align: middle;\n",
       "    }\n",
       "\n",
       "    .dataframe tbody tr th {\n",
       "        vertical-align: top;\n",
       "    }\n",
       "\n",
       "    .dataframe thead th {\n",
       "        text-align: right;\n",
       "    }\n",
       "</style>\n",
       "<table border=\"1\" class=\"dataframe\">\n",
       "  <thead>\n",
       "    <tr style=\"text-align: right;\">\n",
       "      <th></th>\n",
       "      <th>latitude</th>\n",
       "      <th>longitude</th>\n",
       "      <th>housing_median_age</th>\n",
       "      <th>total_rooms</th>\n",
       "      <th>total_bedrooms</th>\n",
       "      <th>population</th>\n",
       "      <th>households</th>\n",
       "      <th>median_income</th>\n",
       "      <th>ocean_proximity</th>\n",
       "      <th>median_house_value</th>\n",
       "      <th>room_per_household</th>\n",
       "      <th>bedrooms_per_room</th>\n",
       "      <th>population_per_household</th>\n",
       "    </tr>\n",
       "  </thead>\n",
       "  <tbody>\n",
       "    <tr>\n",
       "      <th>0</th>\n",
       "      <td>36.74</td>\n",
       "      <td>-119.85</td>\n",
       "      <td>35.0</td>\n",
       "      <td>1191.0</td>\n",
       "      <td>190.0</td>\n",
       "      <td>537.0</td>\n",
       "      <td>182.0</td>\n",
       "      <td>3.5375</td>\n",
       "      <td>inland</td>\n",
       "      <td>96700.0</td>\n",
       "      <td>6.543956</td>\n",
       "      <td>0.159530</td>\n",
       "      <td>2.950549</td>\n",
       "    </tr>\n",
       "    <tr>\n",
       "      <th>1</th>\n",
       "      <td>41.02</td>\n",
       "      <td>-124.16</td>\n",
       "      <td>23.0</td>\n",
       "      <td>1672.0</td>\n",
       "      <td>385.0</td>\n",
       "      <td>1060.0</td>\n",
       "      <td>390.0</td>\n",
       "      <td>2.1726</td>\n",
       "      <td>near_ocean</td>\n",
       "      <td>75500.0</td>\n",
       "      <td>4.287179</td>\n",
       "      <td>0.230263</td>\n",
       "      <td>2.717949</td>\n",
       "    </tr>\n",
       "  </tbody>\n",
       "</table>\n",
       "</div>"
      ],
      "text/plain": [
       "   latitude  longitude  housing_median_age  total_rooms  total_bedrooms  \\\n",
       "0     36.74    -119.85                35.0       1191.0           190.0   \n",
       "1     41.02    -124.16                23.0       1672.0           385.0   \n",
       "\n",
       "   population  households  median_income ocean_proximity  median_house_value  \\\n",
       "0       537.0       182.0         3.5375          inland             96700.0   \n",
       "1      1060.0       390.0         2.1726      near_ocean             75500.0   \n",
       "\n",
       "   room_per_household  bedrooms_per_room  population_per_household  \n",
       "0            6.543956           0.159530                  2.950549  \n",
       "1            4.287179           0.230263                  2.717949  "
      ]
     },
     "metadata": {},
     "output_type": "display_data"
    },
    {
     "data": {
      "text/html": [
       "<div>\n",
       "<style scoped>\n",
       "    .dataframe tbody tr th:only-of-type {\n",
       "        vertical-align: middle;\n",
       "    }\n",
       "\n",
       "    .dataframe tbody tr th {\n",
       "        vertical-align: top;\n",
       "    }\n",
       "\n",
       "    .dataframe thead th {\n",
       "        text-align: right;\n",
       "    }\n",
       "</style>\n",
       "<table border=\"1\" class=\"dataframe\">\n",
       "  <thead>\n",
       "    <tr style=\"text-align: right;\">\n",
       "      <th></th>\n",
       "      <th>latitude</th>\n",
       "      <th>longitude</th>\n",
       "      <th>housing_median_age</th>\n",
       "      <th>total_rooms</th>\n",
       "      <th>total_bedrooms</th>\n",
       "      <th>population</th>\n",
       "      <th>households</th>\n",
       "      <th>median_income</th>\n",
       "      <th>ocean_proximity</th>\n",
       "      <th>median_house_value</th>\n",
       "      <th>room_per_household</th>\n",
       "      <th>bedrooms_per_room</th>\n",
       "      <th>population_per_household</th>\n",
       "    </tr>\n",
       "  </thead>\n",
       "  <tbody>\n",
       "    <tr>\n",
       "      <th>0</th>\n",
       "      <td>36.06</td>\n",
       "      <td>-119.01</td>\n",
       "      <td>25.0</td>\n",
       "      <td>1505.0</td>\n",
       "      <td>0.0</td>\n",
       "      <td>1392.0</td>\n",
       "      <td>359.0</td>\n",
       "      <td>1.6812</td>\n",
       "      <td>inland</td>\n",
       "      <td>47700.0</td>\n",
       "      <td>4.192201</td>\n",
       "      <td>0.0</td>\n",
       "      <td>3.877437</td>\n",
       "    </tr>\n",
       "    <tr>\n",
       "      <th>1</th>\n",
       "      <td>35.14</td>\n",
       "      <td>-119.46</td>\n",
       "      <td>30.0</td>\n",
       "      <td>2943.0</td>\n",
       "      <td>0.0</td>\n",
       "      <td>1565.0</td>\n",
       "      <td>584.0</td>\n",
       "      <td>2.5313</td>\n",
       "      <td>inland</td>\n",
       "      <td>45800.0</td>\n",
       "      <td>5.039384</td>\n",
       "      <td>0.0</td>\n",
       "      <td>2.679795</td>\n",
       "    </tr>\n",
       "  </tbody>\n",
       "</table>\n",
       "</div>"
      ],
      "text/plain": [
       "   latitude  longitude  housing_median_age  total_rooms  total_bedrooms  \\\n",
       "0     36.06    -119.01                25.0       1505.0             0.0   \n",
       "1     35.14    -119.46                30.0       2943.0             0.0   \n",
       "\n",
       "   population  households  median_income ocean_proximity  median_house_value  \\\n",
       "0      1392.0       359.0         1.6812          inland             47700.0   \n",
       "1      1565.0       584.0         2.5313          inland             45800.0   \n",
       "\n",
       "   room_per_household  bedrooms_per_room  population_per_household  \n",
       "0            4.192201                0.0                  3.877437  \n",
       "1            5.039384                0.0                  2.679795  "
      ]
     },
     "metadata": {},
     "output_type": "display_data"
    }
   ],
   "source": [
    "display(df_train.reset_index(drop=True).head(2))\n",
    "display(df_val.reset_index(drop=True).head(2))\n",
    "display(df_test.reset_index(drop=True).head(2))"
   ]
  },
  {
   "cell_type": "code",
   "execution_count": 13,
   "metadata": {
    "execution": {
     "iopub.execute_input": "2022-09-25T14:37:20.268362Z",
     "iopub.status.busy": "2022-09-25T14:37:20.267979Z",
     "iopub.status.idle": "2022-09-25T14:37:20.278106Z",
     "shell.execute_reply": "2022-09-25T14:37:20.276477Z",
     "shell.execute_reply.started": "2022-09-25T14:37:20.268331Z"
    }
   },
   "outputs": [],
   "source": [
    "# separating features from the target variable :\n",
    "y_full_train = df_full_train.median_house_value.values\n",
    "y_train = df_train.median_house_value.values\n",
    "y_val = df_val.median_house_value.values\n",
    "y_test = df_test.median_house_value.values\n",
    "\n",
    "del df_full_train['median_house_value']\n",
    "del df_train['median_house_value']\n",
    "del df_val['median_house_value']\n",
    "del df_test['median_house_value']"
   ]
  },
  {
   "cell_type": "markdown",
   "metadata": {},
   "source": [
    "Question 2\n",
    "<br>\n",
    "I will create a correlation matrix for the numerical features in the training data set.<br>\n",
    "In the correlation matrix, I will calculate the correlation coefficient between each pair of features in the dataset.<br><br>\n",
    "Goal: What are the two features that have the highest correlation in this dataset?\n"
   ]
  },
  {
   "cell_type": "code",
   "execution_count": 14,
   "metadata": {
    "execution": {
     "iopub.execute_input": "2022-09-25T21:52:20.764687Z",
     "iopub.status.busy": "2022-09-25T21:52:20.764258Z",
     "iopub.status.idle": "2022-09-25T21:52:21.925828Z",
     "shell.execute_reply": "2022-09-25T21:52:21.924306Z",
     "shell.execute_reply.started": "2022-09-25T21:52:20.764654Z"
    }
   },
   "outputs": [
    {
     "data": {
      "text/plain": [
       "total_bedrooms    0.979399\n",
       "households        0.979399\n",
       "total_rooms       0.931546\n",
       "population        0.906841\n",
       "median_income     0.394154\n",
       "dtype: float64"
      ]
     },
     "metadata": {},
     "output_type": "display_data"
    },
    {
     "name": "stdout",
     "output_type": "stream",
     "text": [
      "\n",
      "Answer to question 2:\n",
      "The highest correlation in the training data set are: \n",
      "total_bedrooms    0.979399\n",
      "households        0.979399\n",
      "dtype: float64\n"
     ]
    },
    {
     "data": {
      "image/png": "[encoded data removed]",
      "text/plain": [
       "<Figure size 1080x1080 with 2 Axes>"
      ]
     },
     "metadata": {
      "needs_background": "light"
     },
     "output_type": "display_data"
    }
   ],
   "source": [
    "corr_matrix_train = df_train.corr()[df_train.corr() != 1]\n",
    "display(corr_matrix_train.max().sort_values(ascending=False).head())\n",
    "\n",
    "fig = plt.subplots(figsize=(15,15))\n",
    "ax = sns.heatmap(corr_matrix_train, annot=True, fmt='.4f', cmap=\"YlGnBu\")\n",
    "\n",
    "print(f\"\\nAnswer to question 2:\")\n",
    "print(f\"The highest correlation in the training data set are: \\n{corr_matrix_train.max().sort_values(ascending=False).head(2)}\")"
   ]
  },
  {
   "cell_type": "markdown",
   "metadata": {},
   "source": [
    "I will convert the median_home_value feature from numeric to binary.<br>\n",
    "I will create an above_average variable that has a value of 1 if median_home_value is above its mean value and 0 otherwise.\n",
    "\n"
   ]
  },
  {
   "cell_type": "code",
   "execution_count": 15,
   "metadata": {
    "execution": {
     "iopub.execute_input": "2022-09-25T14:37:46.036378Z",
     "iopub.status.busy": "2022-09-25T14:37:46.035976Z",
     "iopub.status.idle": "2022-09-25T14:37:46.045200Z",
     "shell.execute_reply": "2022-09-25T14:37:46.043950Z",
     "shell.execute_reply.started": "2022-09-25T14:37:46.036346Z"
    }
   },
   "outputs": [],
   "source": [
    "# convert the median_home_value variable from numeric to binary:\n",
    "mean_dataset = df.median_house_value.mean()\n",
    "mean_full_train = y_full_train.mean()\n",
    "mean_train = y_train.mean()\n",
    "mean_val = y_val.mean()\n",
    "mean_test = y_test.mean()\n",
    "\n",
    "\n",
    "# We create an above_average variable that has a value of 1 \n",
    "# if median_home_is above its mean value and 0 otherwise.:\n",
    "above_average_full_train = (y_full_train > mean_dataset).astype(int)\n",
    "above_average_train = (y_train > mean_dataset).astype(int)\n",
    "above_average_val = (y_val > mean_dataset).astype(int)\n",
    "above_average_test = (y_test > mean_dataset).astype(int)\n"
   ]
  },
  {
   "cell_type": "markdown",
   "metadata": {},
   "source": [
    "Question 3<br>\n",
    "\n",
    "I will calculate the mutual information score with the (binarised) price for the categorical variable we have. <br>\n",
    "I will only use the training set.<br><br>\n",
    "Aim: What is the value of the mutual information? (I will round the score to 2 digits after the decimal point using round(score, 2))"
   ]
  },
  {
   "cell_type": "code",
   "execution_count": 16,
   "metadata": {
    "execution": {
     "iopub.execute_input": "2022-09-25T14:45:18.302479Z",
     "iopub.status.busy": "2022-09-25T14:45:18.302067Z",
     "iopub.status.idle": "2022-09-25T14:45:18.332871Z",
     "shell.execute_reply": "2022-09-25T14:45:18.331612Z",
     "shell.execute_reply.started": "2022-09-25T14:45:18.302446Z"
    }
   },
   "outputs": [
    {
     "name": "stdout",
     "output_type": "stream",
     "text": [
      "\n",
      "Answer to question 3:\n",
      "Value of mutual information: 0.10\n"
     ]
    }
   ],
   "source": [
    "from sklearn.metrics import mutual_info_score\n",
    "\n",
    "score = mutual_info_score(df_train['ocean_proximity'], above_average_train)\n",
    "score = round(score, 2)\n",
    "\n",
    "print(f\"\\nAnswer to question 3:\")\n",
    "print(f\"Value of mutual information: {score:.2f}\")\n"
   ]
  },
  {
   "cell_type": "markdown",
   "metadata": {},
   "source": [
    "Question 4\n",
    "<br>\n",
    "I will train a logistic regression model<br>\n",
    "For the categorical variable ocean_proximity, I will use one-hot encoding.<br>\n",
    "I will fit the model to the training dataset.<br>\n",
    "To make the results reproducible across different versions of Scikit-Learn, I will fit the model with these parameters: (model = LogisticRegression(solver=\"liblinear\", C=1.0, max_iter=1000, random_state=42)\n",
    "<br><br>\n",
    "Goal: Calculate the accuracy on the validation dataset and round it to 2 digits after the decimal point.\n"
   ]
  },
  {
   "cell_type": "code",
   "execution_count": 17,
   "metadata": {},
   "outputs": [],
   "source": [
    "from sklearn.feature_extraction import DictVectorizer"
   ]
  },
  {
   "cell_type": "code",
   "execution_count": 18,
   "metadata": {
    "execution": {
     "iopub.execute_input": "2022-09-25T15:07:55.309358Z",
     "iopub.status.busy": "2022-09-25T15:07:55.308975Z",
     "iopub.status.idle": "2022-09-25T15:07:55.543382Z",
     "shell.execute_reply": "2022-09-25T15:07:55.542173Z",
     "shell.execute_reply.started": "2022-09-25T15:07:55.309327Z"
    }
   },
   "outputs": [],
   "source": [
    "# converting all datasets into dictionaries:\n",
    "train_dicts = df_train.to_dict(orient='records')\n",
    "val_dicts = df_val.to_dict(orient='records')\n",
    "test_dicts = df_test.to_dict(orient='records')"
   ]
  },
  {
   "cell_type": "code",
   "execution_count": 19,
   "metadata": {
    "execution": {
     "iopub.execute_input": "2022-09-25T15:07:59.741713Z",
     "iopub.status.busy": "2022-09-25T15:07:59.741181Z",
     "iopub.status.idle": "2022-09-25T15:07:59.746812Z",
     "shell.execute_reply": "2022-09-25T15:07:59.745926Z",
     "shell.execute_reply.started": "2022-09-25T15:07:59.741663Z"
    }
   },
   "outputs": [],
   "source": [
    "# one-hot encoding of categorical variable:\n",
    "dv = DictVectorizer(sparse=False)"
   ]
  },
  {
   "cell_type": "code",
   "execution_count": 20,
   "metadata": {
    "execution": {
     "iopub.execute_input": "2022-09-25T15:51:27.175779Z",
     "iopub.status.busy": "2022-09-25T15:51:27.174461Z",
     "iopub.status.idle": "2022-09-25T15:51:27.524436Z",
     "shell.execute_reply": "2022-09-25T15:51:27.523577Z",
     "shell.execute_reply.started": "2022-09-25T15:51:27.175722Z"
    }
   },
   "outputs": [],
   "source": [
    "# preparation of features_matrices:\n",
    "X_train = dv.fit_transform(train_dicts)\n",
    "X_val = dv.transform(val_dicts)\n",
    "X_test = dv.transform(test_dicts)"
   ]
  },
  {
   "cell_type": "code",
   "execution_count": 21,
   "metadata": {},
   "outputs": [],
   "source": [
    "from sklearn.linear_model import LogisticRegression"
   ]
  },
  {
   "cell_type": "code",
   "execution_count": 22,
   "metadata": {
    "execution": {
     "iopub.execute_input": "2022-09-25T15:08:34.605841Z",
     "iopub.status.busy": "2022-09-25T15:08:34.605448Z",
     "iopub.status.idle": "2022-09-25T15:08:35.414693Z",
     "shell.execute_reply": "2022-09-25T15:08:35.413736Z",
     "shell.execute_reply.started": "2022-09-25T15:08:34.605808Z"
    }
   },
   "outputs": [
    {
     "data": {
      "text/html": [
       "<style>#sk-container-id-1 {color: black;background-color: white;}#sk-container-id-1 pre{padding: 0;}#sk-container-id-1 div.sk-toggleable {background-color: white;}#sk-container-id-1 label.sk-toggleable__label {cursor: pointer;display: block;width: 100%;margin-bottom: 0;padding: 0.3em;box-sizing: border-box;text-align: center;}#sk-container-id-1 label.sk-toggleable__label-arrow:before {content: \"▸\";float: left;margin-right: 0.25em;color: #696969;}#sk-container-id-1 label.sk-toggleable__label-arrow:hover:before {color: black;}#sk-container-id-1 div.sk-estimator:hover label.sk-toggleable__label-arrow:before {color: black;}#sk-container-id-1 div.sk-toggleable__content {max-height: 0;max-width: 0;overflow: hidden;text-align: left;background-color: #f0f8ff;}#sk-container-id-1 div.sk-toggleable__content pre {margin: 0.2em;color: black;border-radius: 0.25em;background-color: #f0f8ff;}#sk-container-id-1 input.sk-toggleable__control:checked~div.sk-toggleable__content {max-height: 200px;max-width: 100%;overflow: auto;}#sk-container-id-1 input.sk-toggleable__control:checked~label.sk-toggleable__label-arrow:before {content: \"▾\";}#sk-container-id-1 div.sk-estimator input.sk-toggleable__control:checked~label.sk-toggleable__label {background-color: #d4ebff;}#sk-container-id-1 div.sk-label input.sk-toggleable__control:checked~label.sk-toggleable__label {background-color: #d4ebff;}#sk-container-id-1 input.sk-hidden--visually {border: 0;clip: rect(1px 1px 1px 1px);clip: rect(1px, 1px, 1px, 1px);height: 1px;margin: -1px;overflow: hidden;padding: 0;position: absolute;width: 1px;}#sk-container-id-1 div.sk-estimator {font-family: monospace;background-color: #f0f8ff;border: 1px dotted black;border-radius: 0.25em;box-sizing: border-box;margin-bottom: 0.5em;}#sk-container-id-1 div.sk-estimator:hover {background-color: #d4ebff;}#sk-container-id-1 div.sk-parallel-item::after {content: \"\";width: 100%;border-bottom: 1px solid gray;flex-grow: 1;}#sk-container-id-1 div.sk-label:hover label.sk-toggleable__label {background-color: #d4ebff;}#sk-container-id-1 div.sk-serial::before {content: \"\";position: absolute;border-left: 1px solid gray;box-sizing: border-box;top: 0;bottom: 0;left: 50%;z-index: 0;}#sk-container-id-1 div.sk-serial {display: flex;flex-direction: column;align-items: center;background-color: white;padding-right: 0.2em;padding-left: 0.2em;position: relative;}#sk-container-id-1 div.sk-item {position: relative;z-index: 1;}#sk-container-id-1 div.sk-parallel {display: flex;align-items: stretch;justify-content: center;background-color: white;position: relative;}#sk-container-id-1 div.sk-item::before, #sk-container-id-1 div.sk-parallel-item::before {content: \"\";position: absolute;border-left: 1px solid gray;box-sizing: border-box;top: 0;bottom: 0;left: 50%;z-index: -1;}#sk-container-id-1 div.sk-parallel-item {display: flex;flex-direction: column;z-index: 1;position: relative;background-color: white;}#sk-container-id-1 div.sk-parallel-item:first-child::after {align-self: flex-end;width: 50%;}#sk-container-id-1 div.sk-parallel-item:last-child::after {align-self: flex-start;width: 50%;}#sk-container-id-1 div.sk-parallel-item:only-child::after {width: 0;}#sk-container-id-1 div.sk-dashed-wrapped {border: 1px dashed gray;margin: 0 0.4em 0.5em 0.4em;box-sizing: border-box;padding-bottom: 0.4em;background-color: white;}#sk-container-id-1 div.sk-label label {font-family: monospace;font-weight: bold;display: inline-block;line-height: 1.2em;}#sk-container-id-1 div.sk-label-container {text-align: center;}#sk-container-id-1 div.sk-container {/* jupyter's `normalize.less` sets `[hidden] { display: none; }` but bootstrap.min.css set `[hidden] { display: none !important; }` so we also need the `!important` here to be able to override the default hidden behavior on the sphinx rendered scikit-learn.org. See: https://github.com/scikit-learn/scikit-learn/issues/21755 */display: inline-block !important;position: relative;}#sk-container-id-1 div.sk-text-repr-fallback {display: none;}</style><div id=\"sk-container-id-1\" class=\"sk-top-container\"><div class=\"sk-text-repr-fallback\"><pre>LogisticRegression(max_iter=1000, random_state=42, solver=&#x27;liblinear&#x27;)</pre><b>In a Jupyter environment, please rerun this cell to show the HTML representation or trust the notebook. <br />On GitHub, the HTML representation is unable to render, please try loading this page with nbviewer.org.</b></div><div class=\"sk-container\" hidden><div class=\"sk-item\"><div class=\"sk-estimator sk-toggleable\"><input class=\"sk-toggleable__control sk-hidden--visually\" id=\"sk-estimator-id-1\" type=\"checkbox\" checked><label for=\"sk-estimator-id-1\" class=\"sk-toggleable__label sk-toggleable__label-arrow\">LogisticRegression</label><div class=\"sk-toggleable__content\"><pre>LogisticRegression(max_iter=1000, random_state=42, solver=&#x27;liblinear&#x27;)</pre></div></div></div></div></div>"
      ],
      "text/plain": [
       "LogisticRegression(max_iter=1000, random_state=42, solver='liblinear')"
      ]
     },
     "execution_count": 22,
     "metadata": {},
     "output_type": "execute_result"
    }
   ],
   "source": [
    "# train LogisticRegression model:\n",
    "model = LogisticRegression(solver='liblinear', C=1.0, max_iter=1000, random_state=42)\n",
    "model.fit(X_train, above_average_train)"
   ]
  },
  {
   "cell_type": "code",
   "execution_count": 23,
   "metadata": {
    "execution": {
     "iopub.execute_input": "2022-09-25T15:17:56.104476Z",
     "iopub.status.busy": "2022-09-25T15:17:56.103996Z",
     "iopub.status.idle": "2022-09-25T15:17:56.115569Z",
     "shell.execute_reply": "2022-09-25T15:17:56.114169Z",
     "shell.execute_reply.started": "2022-09-25T15:17:56.104434Z"
    }
   },
   "outputs": [],
   "source": [
    "# perform predictions on the Validation dataset:\n",
    "y_pred = model.predict(X_val)"
   ]
  },
  {
   "cell_type": "code",
   "execution_count": 24,
   "metadata": {},
   "outputs": [],
   "source": [
    "from sklearn.metrics import accuracy_score"
   ]
  },
  {
   "cell_type": "code",
   "execution_count": 25,
   "metadata": {
    "execution": {
     "iopub.execute_input": "2022-09-25T15:55:39.615755Z",
     "iopub.status.busy": "2022-09-25T15:55:39.615338Z",
     "iopub.status.idle": "2022-09-25T15:55:39.624910Z",
     "shell.execute_reply": "2022-09-25T15:55:39.623391Z",
     "shell.execute_reply.started": "2022-09-25T15:55:39.615722Z"
    }
   },
   "outputs": [
    {
     "name": "stdout",
     "output_type": "stream",
     "text": [
      "\n",
      "Answer to question 4:\n",
      "Accuracy on the validation dataset:  0.84\n"
     ]
    }
   ],
   "source": [
    "# calculation of accuracy:\n",
    "val_accuracy = accuracy_score(above_average_val, y_pred)\n",
    "print(f\"\\nAnswer to question 4:\")\n",
    "print(f'Accuracy on the validation dataset:  {round(accuracy_score(above_average_val, y_pred), 2)}')"
   ]
  },
  {
   "cell_type": "markdown",
   "metadata": {},
   "source": [
    "Question 5\n",
    "<br>\n",
    "Find the least useful feature using the feature elimination technique.<br>\n",
    "I will train the model with all these features <br>\n",
    "I will exclude each feature from this set and train a model without it. <br>\n",
    "I will record the accuracy for each model.<br>\n",
    "For each feature, I will calculate the difference between the original accuracy and the accuracy without the feature.<br><br>\n",
    "Goal: Which of the following features has the smallest difference?"
   ]
  },
  {
   "cell_type": "code",
   "execution_count": 26,
   "metadata": {
    "execution": {
     "iopub.execute_input": "2022-09-25T17:18:06.388082Z",
     "iopub.status.busy": "2022-09-25T17:18:06.387624Z",
     "iopub.status.idle": "2022-09-25T17:18:06.399767Z",
     "shell.execute_reply": "2022-09-25T17:18:06.398475Z",
     "shell.execute_reply.started": "2022-09-25T17:18:06.388043Z"
    }
   },
   "outputs": [],
   "source": [
    "def feature_elimination(feature_removed, df_train, df_val, df_test):\n",
    "    print(f'we excluding \"{feature_removed}\" from this set and training the model without it.')\n",
    "    # creating a new df with a copy of the data and indexes of the calling object.\n",
    "    df_train = df_train.copy()\n",
    "    df_val = df_val.copy()\n",
    "    df_test = df_test.copy()\n",
    "    # excluding each feature from this set and training the model without it:\n",
    "    df_train = df_train.drop(columns=[feature_removed])\n",
    "    df_val = df_val.drop(columns=[feature_removed])\n",
    "    df_test = df_test.drop(columns=[feature_removed])\n",
    "    train_dicts = df_train.to_dict(orient='records')\n",
    "    val_dicts = df_val.to_dict(orient='records')\n",
    "    test_dicts = df_test.to_dict(orient='records')\n",
    "    X_train = dv.fit_transform(train_dicts)\n",
    "    X_val = dv.transform(val_dicts)\n",
    "    X_test = dv.transform(test_dicts)\n",
    "    model = LogisticRegression(solver='liblinear', C=1.0, max_iter=1000, random_state=42)\n",
    "    model.fit(X_train, above_average_train)\n",
    "    y_pred = model.predict(X_val)\n",
    "    accuracy_iter = accuracy_score(above_average_val, y_pred)\n",
    "    print(f'recorded accuracy w/o {feature_removed}: \\n\\t\\t\\t\\t{round(accuracy_score(above_average_val, y_pred), 4)}')\n",
    "    return accuracy_iter"
   ]
  },
  {
   "cell_type": "code",
   "execution_count": 27,
   "metadata": {
    "execution": {
     "iopub.execute_input": "2022-09-25T17:18:09.484748Z",
     "iopub.status.busy": "2022-09-25T17:18:09.483563Z",
     "iopub.status.idle": "2022-09-25T17:18:21.711842Z",
     "shell.execute_reply": "2022-09-25T17:18:21.708748Z",
     "shell.execute_reply.started": "2022-09-25T17:18:09.484689Z"
    }
   },
   "outputs": [
    {
     "name": "stdout",
     "output_type": "stream",
     "text": [
      "we excluding \"latitude\" from this set and training the model without it.\n",
      "recorded accuracy w/o latitude: \n",
      "\t\t\t\t0.8341\n",
      "calculated difference: \t\t0.0022\n",
      "\n",
      "we excluding \"longitude\" from this set and training the model without it.\n",
      "recorded accuracy w/o longitude: \n",
      "\t\t\t\t0.8331\n",
      "calculated difference: \t\t0.0031\n",
      "\n",
      "we excluding \"housing_median_age\" from this set and training the model without it.\n",
      "recorded accuracy w/o housing_median_age: \n",
      "\t\t\t\t0.8309\n",
      "calculated difference: \t\t0.0053\n",
      "\n",
      "we excluding \"total_rooms\" from this set and training the model without it.\n",
      "recorded accuracy w/o total_rooms: \n",
      "\t\t\t\t0.8365\n",
      "calculated difference: \t\t-0.0002\n",
      "\n",
      "we excluding \"total_bedrooms\" from this set and training the model without it.\n",
      "recorded accuracy w/o total_bedrooms: \n",
      "\t\t\t\t0.8353\n",
      "calculated difference: \t\t0.0010\n",
      "\n",
      "we excluding \"population\" from this set and training the model without it.\n",
      "recorded accuracy w/o population: \n",
      "\t\t\t\t0.8263\n",
      "calculated difference: \t\t0.0099\n",
      "\n",
      "we excluding \"households\" from this set and training the model without it.\n",
      "recorded accuracy w/o households: \n",
      "\t\t\t\t0.8333\n",
      "calculated difference: \t\t0.0029\n",
      "\n",
      "we excluding \"median_income\" from this set and training the model without it.\n",
      "recorded accuracy w/o median_income: \n",
      "\t\t\t\t0.7863\n",
      "calculated difference: \t\t0.0499\n",
      "\n",
      "we excluding \"ocean_proximity\" from this set and training the model without it.\n",
      "recorded accuracy w/o ocean_proximity: \n",
      "\t\t\t\t0.8203\n",
      "calculated difference: \t\t0.0160\n",
      "\n",
      "we excluding \"room_per_household\" from this set and training the model without it.\n",
      "recorded accuracy w/o room_per_household: \n",
      "\t\t\t\t0.8365\n",
      "calculated difference: \t\t-0.0002\n",
      "\n",
      "we excluding \"bedrooms_per_room\" from this set and training the model without it.\n",
      "recorded accuracy w/o bedrooms_per_room: \n",
      "\t\t\t\t0.8362\n",
      "calculated difference: \t\t0.0000\n",
      "\n",
      "we excluding \"population_per_household\" from this set and training the model without it.\n",
      "recorded accuracy w/o population_per_household: \n",
      "\t\t\t\t0.8358\n",
      "calculated difference: \t\t0.0005\n",
      "\n"
     ]
    }
   ],
   "source": [
    "features = []\n",
    "accuracies = []\n",
    "differences = []\n",
    "for feature in df_train.columns:\n",
    "    features.append(feature)\n",
    "    accuracy_iter = feature_elimination(feature, df_train, df_val, df_test)\n",
    "    accuracies.append(accuracy_iter)\n",
    "    difference_iter = val_accuracy - accuracy_iter\n",
    "    differences.append(difference_iter)\n",
    "    print(f'calculated difference: \\t\\t{difference_iter:.4f}')\n",
    "    print()"
   ]
  },
  {
   "cell_type": "code",
   "execution_count": 28,
   "metadata": {
    "execution": {
     "iopub.execute_input": "2022-09-25T17:55:25.918021Z",
     "iopub.status.busy": "2022-09-25T17:55:25.917553Z",
     "iopub.status.idle": "2022-09-25T17:55:25.939486Z",
     "shell.execute_reply": "2022-09-25T17:55:25.938120Z",
     "shell.execute_reply.started": "2022-09-25T17:55:25.917972Z"
    }
   },
   "outputs": [
    {
     "data": {
      "text/html": [
       "<div>\n",
       "<style scoped>\n",
       "    .dataframe tbody tr th:only-of-type {\n",
       "        vertical-align: middle;\n",
       "    }\n",
       "\n",
       "    .dataframe tbody tr th {\n",
       "        vertical-align: top;\n",
       "    }\n",
       "\n",
       "    .dataframe thead th {\n",
       "        text-align: right;\n",
       "    }\n",
       "</style>\n",
       "<table border=\"1\" class=\"dataframe\">\n",
       "  <thead>\n",
       "    <tr style=\"text-align: right;\">\n",
       "      <th></th>\n",
       "      <th>feature</th>\n",
       "      <th>accuracy_val</th>\n",
       "      <th>accuracy</th>\n",
       "      <th>difference</th>\n",
       "      <th>difference_abs</th>\n",
       "    </tr>\n",
       "  </thead>\n",
       "  <tbody>\n",
       "    <tr>\n",
       "      <th>10</th>\n",
       "      <td>bedrooms_per_room</td>\n",
       "      <td>0.83624</td>\n",
       "      <td>0.836240</td>\n",
       "      <td>0.000000</td>\n",
       "      <td>0.000000</td>\n",
       "    </tr>\n",
       "    <tr>\n",
       "      <th>3</th>\n",
       "      <td>total_rooms</td>\n",
       "      <td>0.83624</td>\n",
       "      <td>0.836483</td>\n",
       "      <td>-0.000242</td>\n",
       "      <td>0.000242</td>\n",
       "    </tr>\n",
       "    <tr>\n",
       "      <th>9</th>\n",
       "      <td>room_per_household</td>\n",
       "      <td>0.83624</td>\n",
       "      <td>0.836483</td>\n",
       "      <td>-0.000242</td>\n",
       "      <td>0.000242</td>\n",
       "    </tr>\n",
       "    <tr>\n",
       "      <th>11</th>\n",
       "      <td>population_per_household</td>\n",
       "      <td>0.83624</td>\n",
       "      <td>0.835756</td>\n",
       "      <td>0.000484</td>\n",
       "      <td>0.000484</td>\n",
       "    </tr>\n",
       "    <tr>\n",
       "      <th>4</th>\n",
       "      <td>total_bedrooms</td>\n",
       "      <td>0.83624</td>\n",
       "      <td>0.835271</td>\n",
       "      <td>0.000969</td>\n",
       "      <td>0.000969</td>\n",
       "    </tr>\n",
       "    <tr>\n",
       "      <th>0</th>\n",
       "      <td>latitude</td>\n",
       "      <td>0.83624</td>\n",
       "      <td>0.834060</td>\n",
       "      <td>0.002180</td>\n",
       "      <td>0.002180</td>\n",
       "    </tr>\n",
       "    <tr>\n",
       "      <th>6</th>\n",
       "      <td>households</td>\n",
       "      <td>0.83624</td>\n",
       "      <td>0.833333</td>\n",
       "      <td>0.002907</td>\n",
       "      <td>0.002907</td>\n",
       "    </tr>\n",
       "    <tr>\n",
       "      <th>1</th>\n",
       "      <td>longitude</td>\n",
       "      <td>0.83624</td>\n",
       "      <td>0.833091</td>\n",
       "      <td>0.003149</td>\n",
       "      <td>0.003149</td>\n",
       "    </tr>\n",
       "    <tr>\n",
       "      <th>2</th>\n",
       "      <td>housing_median_age</td>\n",
       "      <td>0.83624</td>\n",
       "      <td>0.830911</td>\n",
       "      <td>0.005329</td>\n",
       "      <td>0.005329</td>\n",
       "    </tr>\n",
       "    <tr>\n",
       "      <th>5</th>\n",
       "      <td>population</td>\n",
       "      <td>0.83624</td>\n",
       "      <td>0.826308</td>\n",
       "      <td>0.009932</td>\n",
       "      <td>0.009932</td>\n",
       "    </tr>\n",
       "    <tr>\n",
       "      <th>8</th>\n",
       "      <td>ocean_proximity</td>\n",
       "      <td>0.83624</td>\n",
       "      <td>0.820252</td>\n",
       "      <td>0.015988</td>\n",
       "      <td>0.015988</td>\n",
       "    </tr>\n",
       "    <tr>\n",
       "      <th>7</th>\n",
       "      <td>median_income</td>\n",
       "      <td>0.83624</td>\n",
       "      <td>0.786337</td>\n",
       "      <td>0.049903</td>\n",
       "      <td>0.049903</td>\n",
       "    </tr>\n",
       "  </tbody>\n",
       "</table>\n",
       "</div>"
      ],
      "text/plain": [
       "                     feature  accuracy_val  accuracy  difference  \\\n",
       "10         bedrooms_per_room       0.83624  0.836240    0.000000   \n",
       "3                total_rooms       0.83624  0.836483   -0.000242   \n",
       "9         room_per_household       0.83624  0.836483   -0.000242   \n",
       "11  population_per_household       0.83624  0.835756    0.000484   \n",
       "4             total_bedrooms       0.83624  0.835271    0.000969   \n",
       "0                   latitude       0.83624  0.834060    0.002180   \n",
       "6                 households       0.83624  0.833333    0.002907   \n",
       "1                  longitude       0.83624  0.833091    0.003149   \n",
       "2         housing_median_age       0.83624  0.830911    0.005329   \n",
       "5                 population       0.83624  0.826308    0.009932   \n",
       "8            ocean_proximity       0.83624  0.820252    0.015988   \n",
       "7              median_income       0.83624  0.786337    0.049903   \n",
       "\n",
       "    difference_abs  \n",
       "10        0.000000  \n",
       "3         0.000242  \n",
       "9         0.000242  \n",
       "11        0.000484  \n",
       "4         0.000969  \n",
       "0         0.002180  \n",
       "6         0.002907  \n",
       "1         0.003149  \n",
       "2         0.005329  \n",
       "5         0.009932  \n",
       "8         0.015988  \n",
       "7         0.049903  "
      ]
     },
     "execution_count": 28,
     "metadata": {},
     "output_type": "execute_result"
    }
   ],
   "source": [
    "# preparing a data set to check the difference\n",
    "df_analysis = pd.DataFrame({\n",
    "    'feature': features,\n",
    "    'accuracy': accuracies,\n",
    "    'difference': differences\n",
    "})\n",
    "df_analysis['difference_abs'] = df_analysis['difference'].abs()\n",
    "df_analysis['accuracy_val'] = val_accuracy\n",
    "df_analysis = df_analysis[['feature', 'accuracy_val', 'accuracy', 'difference', 'difference_abs']]\n",
    "df_analysis.sort_values(by='difference_abs')"
   ]
  },
  {
   "cell_type": "code",
   "execution_count": 29,
   "metadata": {
    "execution": {
     "iopub.execute_input": "2022-09-25T17:56:33.295873Z",
     "iopub.status.busy": "2022-09-25T17:56:33.295461Z",
     "iopub.status.idle": "2022-09-25T17:56:33.302022Z",
     "shell.execute_reply": "2022-09-25T17:56:33.300755Z",
     "shell.execute_reply.started": "2022-09-25T17:56:33.295824Z"
    }
   },
   "outputs": [
    {
     "name": "stdout",
     "output_type": "stream",
     "text": [
      "\n",
      "Answer to question 5:\n",
      "From the following features, the total_rooms feature has the smallest difference.\n",
      "total_rooms \n",
      "total_bedrooms\n",
      "population\n",
      "households\n"
     ]
    }
   ],
   "source": [
    "print(f\"\\nAnswer to question 5:\")\n",
    "print(f'From the following features, the total_rooms feature has the smallest difference.\\ntotal_rooms \\ntotal_bedrooms\\npopulation\\nhouseholds')"
   ]
  },
  {
   "cell_type": "markdown",
   "metadata": {},
   "source": [
    "Question 6\n",
    "\n",
    "For this question, we'll see how to use a linear regression model from Scikit-Learn<br>\n",
    "I will use the original \"median_house value\" column and apply a logarithmic transformation to that column.<br>\n",
    "I will fit a Ridge regression model (model = Ridge(alpha=a, solver=\"sag\", random_state=42)) on the training data.<br>\n",
    "This model has an alpha parameter. Let's try the following values: [0, 0.01, 0.1, 1, 10]<br>\n",
    "Goal: Which of these alphas leads to the best RMSE on the validation set?<br>\n",
    "I'll round the RMSE results to 3 digits after the decimal point. (If there are multiple options, I will choose the smallest alpha)"
   ]
  },
  {
   "cell_type": "code",
   "execution_count": 30,
   "metadata": {
    "execution": {
     "iopub.execute_input": "2022-09-25T18:34:01.021816Z",
     "iopub.status.busy": "2022-09-25T18:34:01.021420Z",
     "iopub.status.idle": "2022-09-25T18:34:01.028692Z",
     "shell.execute_reply": "2022-09-25T18:34:01.027334Z",
     "shell.execute_reply.started": "2022-09-25T18:34:01.021781Z"
    }
   },
   "outputs": [],
   "source": [
    "# log1p transformation to [y]:\n",
    "y_train_log1p = np.log1p(y_train)\n",
    "y_val_log1p = np.log1p(y_val)"
   ]
  },
  {
   "cell_type": "code",
   "execution_count": 31,
   "metadata": {
    "execution": {
     "iopub.execute_input": "2022-09-25T18:34:02.583691Z",
     "iopub.status.busy": "2022-09-25T18:34:02.582957Z",
     "iopub.status.idle": "2022-09-25T18:34:02.589662Z",
     "shell.execute_reply": "2022-09-25T18:34:02.587979Z",
     "shell.execute_reply.started": "2022-09-25T18:34:02.583649Z"
    }
   },
   "outputs": [],
   "source": [
    "from sklearn.linear_model import Ridge\n",
    "from sklearn.metrics import mean_squared_error"
   ]
  },
  {
   "cell_type": "code",
   "execution_count": 32,
   "metadata": {
    "execution": {
     "iopub.execute_input": "2022-09-25T19:15:07.610041Z",
     "iopub.status.busy": "2022-09-25T19:15:07.608767Z",
     "iopub.status.idle": "2022-09-25T19:15:11.243367Z",
     "shell.execute_reply": "2022-09-25T19:15:11.242093Z",
     "shell.execute_reply.started": "2022-09-25T19:15:07.609995Z"
    }
   },
   "outputs": [
    {
     "name": "stdout",
     "output_type": "stream",
     "text": [
      " alpha = 0, RMSE = 0.52406\n"
     ]
    }
   ],
   "source": [
    "# Ridge regression model parameters:\n",
    "alpha = 0\n",
    "list_of_alphas = [0, 0.01, 0.1, 1, 10]\n",
    "model = Ridge(alpha=alpha, solver=\"sag\", random_state=42)\n",
    "# model fitting:\n",
    "model.fit(X_train, y_train_log1p)\n",
    "# predictions on validation data:\n",
    "y_pred = model.predict(X_val)\n",
    "# calculate RMSE:\n",
    "rmse_score = mean_squared_error(y_val_log1p, y_pred, squared=False)\n",
    "print(f' alpha = {alpha}, RMSE = {round(rmse_score, 5)}')"
   ]
  },
  {
   "cell_type": "code",
   "execution_count": 37,
   "metadata": {},
   "outputs": [],
   "source": [
    "def alpha_parameter(alpha):\n",
    "    model = Ridge(alpha=alpha, solver=\"sag\", random_state=42)\n",
    "    model.fit(X_train, y_train_log1p)\n",
    "    y_pred = model.predict(X_val)\n",
    "    rmse_score = mean_squared_error(y_val_log1p, y_pred, squared=False)\n",
    "    rmse_score = round(rmse_score, 5)\n",
    "    print(f'For alpha = {alpha:.2f} \\tRMSE_score = {rmse_score}')\n",
    "    return rmse_score"
   ]
  },
  {
   "cell_type": "code",
   "execution_count": 38,
   "metadata": {
    "execution": {
     "iopub.execute_input": "2022-09-25T21:50:25.300142Z",
     "iopub.status.busy": "2022-09-25T21:50:25.299682Z",
     "iopub.status.idle": "2022-09-25T21:50:43.088924Z",
     "shell.execute_reply": "2022-09-25T21:50:43.085121Z",
     "shell.execute_reply.started": "2022-09-25T21:50:25.300105Z"
    }
   },
   "outputs": [
    {
     "name": "stdout",
     "output_type": "stream",
     "text": [
      "For alpha = 0.00 \tRMSE_score = 0.52406\n",
      "For alpha = 0.01 \tRMSE_score = 0.52406\n",
      "For alpha = 0.10 \tRMSE_score = 0.52406\n",
      "For alpha = 1.00 \tRMSE_score = 0.52406\n",
      "For alpha = 10.00 \tRMSE_score = 0.52406\n"
     ]
    }
   ],
   "source": [
    "rmse_scores_list = []\n",
    "for alpha in list_of_alphas:\n",
    "    rmse_score = alpha_parameter(alpha)\n",
    "    rmse_scores_list.append(rmse_score)"
   ]
  },
  {
   "cell_type": "code",
   "execution_count": 39,
   "metadata": {
    "execution": {
     "iopub.execute_input": "2022-09-25T21:50:50.292071Z",
     "iopub.status.busy": "2022-09-25T21:50:50.291588Z",
     "iopub.status.idle": "2022-09-25T21:50:50.312869Z",
     "shell.execute_reply": "2022-09-25T21:50:50.311426Z",
     "shell.execute_reply.started": "2022-09-25T21:50:50.292019Z"
    }
   },
   "outputs": [
    {
     "data": {
      "text/html": [
       "<div>\n",
       "<style scoped>\n",
       "    .dataframe tbody tr th:only-of-type {\n",
       "        vertical-align: middle;\n",
       "    }\n",
       "\n",
       "    .dataframe tbody tr th {\n",
       "        vertical-align: top;\n",
       "    }\n",
       "\n",
       "    .dataframe thead th {\n",
       "        text-align: right;\n",
       "    }\n",
       "</style>\n",
       "<table border=\"1\" class=\"dataframe\">\n",
       "  <thead>\n",
       "    <tr style=\"text-align: right;\">\n",
       "      <th></th>\n",
       "      <th>0</th>\n",
       "      <th>1</th>\n",
       "      <th>2</th>\n",
       "      <th>3</th>\n",
       "      <th>4</th>\n",
       "    </tr>\n",
       "  </thead>\n",
       "  <tbody>\n",
       "    <tr>\n",
       "      <th>alpha</th>\n",
       "      <td>0.000</td>\n",
       "      <td>0.010</td>\n",
       "      <td>0.100</td>\n",
       "      <td>1.000</td>\n",
       "      <td>10.000</td>\n",
       "    </tr>\n",
       "    <tr>\n",
       "      <th>rmse_score</th>\n",
       "      <td>0.524</td>\n",
       "      <td>0.524</td>\n",
       "      <td>0.524</td>\n",
       "      <td>0.524</td>\n",
       "      <td>0.524</td>\n",
       "    </tr>\n",
       "  </tbody>\n",
       "</table>\n",
       "</div>"
      ],
      "text/plain": [
       "                0      1      2      3       4\n",
       "alpha       0.000  0.010  0.100  1.000  10.000\n",
       "rmse_score  0.524  0.524  0.524  0.524   0.524"
      ]
     },
     "execution_count": 39,
     "metadata": {},
     "output_type": "execute_result"
    }
   ],
   "source": [
    "df_rmse = pd.DataFrame({\n",
    "    'alpha': list_of_alphas,\n",
    "    'rmse_score': rmse_scores_list\n",
    "})\n",
    "\n",
    "df_rmse = round(df_rmse, 3)\n",
    "df_rmse.T"
   ]
  },
  {
   "cell_type": "code",
   "execution_count": 40,
   "metadata": {
    "execution": {
     "iopub.execute_input": "2022-09-25T21:50:53.202136Z",
     "iopub.status.busy": "2022-09-25T21:50:53.200808Z",
     "iopub.status.idle": "2022-09-25T21:50:53.209771Z",
     "shell.execute_reply": "2022-09-25T21:50:53.208668Z",
     "shell.execute_reply.started": "2022-09-25T21:50:53.202089Z"
    }
   },
   "outputs": [
    {
     "name": "stdout",
     "output_type": "stream",
     "text": [
      "\n",
      "Answer to question 6:\n",
      "Because there are many options the smallest alpha is: 0.000\n"
     ]
    }
   ],
   "source": [
    "print(f\"\\nAnswer to question 6:\")\n",
    "print(f'Because there are many options the smallest alpha is: {df_rmse.min(axis=0)[0]:.3f}')"
   ]
  }
 ],
 "metadata": {
  "kernelspec": {
   "display_name": "Python 3 (ipykernel)",
   "language": "python",
   "name": "python3"
  },
  "language_info": {
   "codemirror_mode": {
    "name": "ipython",
    "version": 3
   },
   "file_extension": ".py",
   "mimetype": "text/x-python",
   "name": "python",
   "nbconvert_exporter": "python",
   "pygments_lexer": "ipython3",
   "version": "3.10.4"
  }
 },
 "nbformat": 4,
 "nbformat_minor": 4
}
